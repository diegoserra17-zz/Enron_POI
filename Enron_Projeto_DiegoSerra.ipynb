{
 "cells": [
  {
   "cell_type": "markdown",
   "metadata": {},
   "source": [
    "# Projeto Final - Udacity : Pesquisando Fraudes no Email da Enron Corporation\n",
    "\n",
    "### Diego Serra\n",
    "#### Março de 2019\n",
    "\n",
    "\n",
    ">Versões utilizadas:\n",
    ">>pyKernel: 4.9\n",
    ">>Matplotlib: 2.2.0\n",
    ">>Scikit-learn: 0.19.1\n",
    ">>Spyder:3.1.4\n",
    "\n",
    "\n",
    "\n",
    "\n",
    "## Resumo do caso Enron\n",
    "\n",
    "A Enron Corporation foi uma companhia de energia americana, localizada em Houston, Texas. Empregava cerca de 21 000 pessoas, tendo sido uma das empresas líderes no mundo em distribuição de energia (electricidade, gás natural) e comunicações, mas decretou falência. Seu faturamento atingia 101 bilhões de dólares em 2000, pouco antes do escândalo financeiro que ocasionou sua falência.\n",
    "\n",
    "A Enron foi criada para a distribuição de energia e conquistou excelentes resultados por meio de outros seguimentos, incluindo frequência de internet e risco ambiental. A companhia possuía uma excelente reputação, era fiscalizada por mais de uma empresa de auditoria, foi reconhecida por revistas como uma empresa americana mais inovadora e com seu crescimento, chamou atenção para o mercado desconfiar a origem de lucros tão altos mesmo em meio a crises.\n",
    "\n",
    "A empresa usava técnicas contábeis e com as parcerias de outras empresas e bancos, manipulava o balanço financeiro e escondia débitos de milhões de dólares. A Enron começou a cair quando, após uma considerável queda de suas ações, o governo dos Estados Unidos levantou uma série de investigações comprovando que a mesma inflava os contratos e lucros, os ótimos números só existiam no papel. A investigação expôs o envolvimento de ex-executivos, contadores, advogados, transformando a corporação norte-americana de uma hora para outra um dos maiores escândalos empresariais da história mundial e os números passaram a ser analisados com muita atenção, com o rendimento das investigações, foram apurados um buraco de bilhões de dólares e além disso, pessoas prejudicadas moveram processos contra a companhia. A Enron foi capaz de usar artifícios sórdidos o suficiente para revoltar a população de tal forma que o então governador da Califórnia acabou com o mandato encurtado por decisão dos eleitores.\n",
    "\n",
    "O Estado passou a intervir no intuito de evitar a queda contínua de investimentos no sentido de reanimar a confiança do investidor. Com isso, os poderes do governo se voltam para mitigar, minimizar os efeitos da crise. O congresso americano passou a redigir uma lei para evitar fraudes contábeis. As reformas criadas pelo senador Paul Sarbanes e deputado Michael Oxley ficaram conhecidas como a Lei Sarbanes-Oxley ou Lei SOX. A rigidez trazida pela lei americana levou ao IFRS, entidade representativa máxima da contabilidade no mundo, a revisar as legislações contábeis e começar a defender a convergência das práticas não só da contabilidade, mas também das práticas de gestão corporativa.\n",
    "\n",
    "A Enron é um exemplo onde representa um mecanismo de fraude honesto e transparente. Onde os balanços publicados ficavam mais positivos, o que elevava a confiança dos compradores de ações. As ações subiam o que valorizava a empresa, que passou a valer os milhões suplementares que diziam ter.\n",
    "\n",
    "O documentário Enron \"Os mais espertos da sala\" é analisado de forma engenhosa e escandalosa que toda a loucura e o caos de uma empresa que por optar pela forma fácil de ganhar dinheiro, acabam afundando na própria ganância e falta de ética, onde se tornaram uma verdadeira mina de corrupção.\n",
    "\n",
    "Muitos executivos da Enron foram indiciados por várias acusações e alguns foram posteriormente condenados à prisão. O auditor da Enron, Arthur Andersen, foi considerado culpado em um Tribunal Distrital dos Estados Unidos de destruir ilegalmente documentos relevantes para a investigação da SEC, que anulou sua licença para auditar empresas públicas, fechando efetivamente o negócio. No momento em que a decisão foi anulada na Suprema Corte dos EUA, a empresa havia perdido a maioria de seus clientes e havia parado de operar. Os funcionários e acionistas da Enron receberam retornos limitados em processos judiciais, apesar de perder bilhões em pensões e preços de ações. Como conseqüência do escândalo, novas regulamentações e legislação foram promulgadas para expandir a precisão dos relatórios financeiros para empresas públicas. O ato aumentou a responsabilidade das empresas de auditoria em permanecerem imparciais e independentes de seus clientes."
   ]
  },
  {
   "cell_type": "markdown",
   "metadata": {},
   "source": [
    "### Bibliotecas que serão utilizadas"
   ]
  },
  {
   "cell_type": "code",
   "execution_count": 71,
   "metadata": {},
   "outputs": [
    {
     "name": "stdout",
     "output_type": "stream",
     "text": [
      "Populating the interactive namespace from numpy and matplotlib\n"
     ]
    }
   ],
   "source": [
    "import pickle\n",
    "import sklearn\n",
    "### pprint: Utilizada para melhor visualizar o dicionário.\n",
    "### fonte: (https://docs.python.org/3/library/pprint.html\n",
    "import pprint\n",
    "import csv\n",
    "import pandas as pd\n",
    "import numpy as np\n",
    "import matplotlib.pyplot as plt\n",
    "%matplotlib inline\n",
    "%pylab inline\n",
    "import seaborn as sns"
   ]
  },
  {
   "cell_type": "markdown",
   "metadata": {},
   "source": [
    "**Importar Dicionário**"
   ]
  },
  {
   "cell_type": "code",
   "execution_count": 72,
   "metadata": {},
   "outputs": [],
   "source": [
    "enron_dict = pickle.load(open(\"final_project_dataset.pkl\", \"r\"))\n",
    "enron_dict_original = enron_dict"
   ]
  },
  {
   "cell_type": "markdown",
   "metadata": {},
   "source": [
    "**Identificando Informações do conjunto de dados**"
   ]
  },
  {
   "cell_type": "code",
   "execution_count": 73,
   "metadata": {},
   "outputs": [
    {
     "name": "stdout",
     "output_type": "stream",
     "text": [
      "Quantidade de pessoas no nosso Dataset:  146\n"
     ]
    }
   ],
   "source": [
    "print 'Quantidade de pessoas no nosso Dataset: ', len(enron_dict) "
   ]
  },
  {
   "cell_type": "code",
   "execution_count": 74,
   "metadata": {},
   "outputs": [],
   "source": [
    "pretty = pprint.PrettyPrinter()"
   ]
  },
  {
   "cell_type": "code",
   "execution_count": 75,
   "metadata": {},
   "outputs": [
    {
     "name": "stdout",
     "output_type": "stream",
     "text": [
      "Sobrenome por ordem alfabética:\n",
      "['ALLEN PHILLIP K',\n",
      " 'BADUM JAMES P',\n",
      " 'BANNANTINE JAMES M',\n",
      " 'BAXTER JOHN C',\n",
      " 'BAY FRANKLIN R',\n",
      " 'BAZELIDES PHILIP J',\n",
      " 'BECK SALLY W',\n",
      " 'BELDEN TIMOTHY N',\n",
      " 'BELFER ROBERT',\n",
      " 'BERBERIAN DAVID',\n",
      " 'BERGSIEKER RICHARD P',\n",
      " 'BHATNAGAR SANJAY',\n",
      " 'BIBI PHILIPPE A',\n",
      " 'BLACHMAN JEREMY M',\n",
      " 'BLAKE JR. NORMAN P',\n",
      " 'BOWEN JR RAYMOND M',\n",
      " 'BROWN MICHAEL',\n",
      " 'BUCHANAN HAROLD G',\n",
      " 'BUTTS ROBERT H',\n",
      " 'BUY RICHARD B',\n",
      " 'CALGER CHRISTOPHER F',\n",
      " 'CARTER REBECCA C',\n",
      " 'CAUSEY RICHARD A',\n",
      " 'CHAN RONNIE',\n",
      " 'CHRISTODOULOU DIOMEDES',\n",
      " 'CLINE KENNETH W',\n",
      " 'COLWELL WESLEY',\n",
      " 'CORDES WILLIAM R',\n",
      " 'COX DAVID',\n",
      " 'CUMBERLAND MICHAEL S',\n",
      " 'DEFFNER JOSEPH M',\n",
      " 'DELAINEY DAVID W',\n",
      " 'DERRICK JR. JAMES V',\n",
      " 'DETMERING TIMOTHY J',\n",
      " 'DIETRICH JANET R',\n",
      " 'DIMICHELE RICHARD G',\n",
      " 'DODSON KEITH',\n",
      " 'DONAHUE JR JEFFREY M',\n",
      " 'DUNCAN JOHN H',\n",
      " 'DURAN WILLIAM D',\n",
      " 'ECHOLS JOHN B',\n",
      " 'ELLIOTT STEVEN',\n",
      " 'FALLON JAMES B',\n",
      " 'FASTOW ANDREW S',\n",
      " 'FITZGERALD JAY L',\n",
      " 'FOWLER PEGGY',\n",
      " 'FOY JOE',\n",
      " 'FREVERT MARK A',\n",
      " 'FUGH JOHN L',\n",
      " 'GAHN ROBERT S',\n",
      " 'GARLAND C KEVIN',\n",
      " 'GATHMANN WILLIAM D',\n",
      " 'GIBBS DANA R',\n",
      " 'GILLIS JOHN',\n",
      " 'GLISAN JR BEN F',\n",
      " 'GOLD JOSEPH',\n",
      " 'GRAMM WENDY L',\n",
      " 'GRAY RODNEY',\n",
      " 'HAEDICKE MARK E',\n",
      " 'HANNON KEVIN P',\n",
      " 'HAUG DAVID L',\n",
      " 'HAYES ROBERT E',\n",
      " 'HAYSLETT RODERICK J',\n",
      " 'HERMANN ROBERT J',\n",
      " 'HICKERSON GARY J',\n",
      " 'HIRKO JOSEPH',\n",
      " 'HORTON STANLEY C',\n",
      " 'HUGHES JAMES A',\n",
      " 'HUMPHREY GENE E',\n",
      " 'IZZO LAWRENCE L',\n",
      " 'JACKSON CHARLENE R',\n",
      " 'JAEDICKE ROBERT',\n",
      " 'KAMINSKI WINCENTY J',\n",
      " 'KEAN STEVEN J',\n",
      " 'KISHKILL JOSEPH G',\n",
      " 'KITCHEN LOUISE',\n",
      " 'KOENIG MARK E',\n",
      " 'KOPPER MICHAEL J',\n",
      " 'LAVORATO JOHN J',\n",
      " 'LAY KENNETH L',\n",
      " 'LEFF DANIEL P',\n",
      " 'LEMAISTRE CHARLES',\n",
      " 'LEWIS RICHARD',\n",
      " 'LINDHOLM TOD A',\n",
      " 'LOCKHART EUGENE E',\n",
      " 'LOWRY CHARLES P',\n",
      " 'MARTIN AMANDA K',\n",
      " 'MCCARTY DANNY J',\n",
      " 'MCCLELLAN GEORGE',\n",
      " 'MCCONNELL MICHAEL S',\n",
      " 'MCDONALD REBECCA',\n",
      " 'MCMAHON JEFFREY',\n",
      " 'MENDELSOHN JOHN',\n",
      " 'METTS MARK',\n",
      " 'MEYER JEROME J',\n",
      " 'MEYER ROCKFORD G',\n",
      " 'MORAN MICHAEL P',\n",
      " 'MORDAUNT KRISTINA M',\n",
      " 'MULLER MARK S',\n",
      " 'MURRAY JULIA H',\n",
      " 'NOLES JAMES L',\n",
      " 'OLSON CINDY K',\n",
      " 'OVERDYKE JR JERE C',\n",
      " 'PAI LOU L',\n",
      " 'PEREIRA PAULO V. FERRAZ',\n",
      " 'PICKERING MARK R',\n",
      " 'PIPER GREGORY F',\n",
      " 'PIRO JIM',\n",
      " 'POWERS WILLIAM',\n",
      " 'PRENTICE JAMES',\n",
      " 'REDMOND BRIAN L',\n",
      " 'REYNOLDS LAWRENCE',\n",
      " 'RICE KENNETH D',\n",
      " 'RIEKER PAULA H',\n",
      " 'SAVAGE FRANK',\n",
      " 'SCRIMSHAW MATTHEW',\n",
      " 'SHANKMAN JEFFREY A',\n",
      " 'SHAPIRO RICHARD S',\n",
      " 'SHARP VICTORIA T',\n",
      " 'SHELBY REX',\n",
      " 'SHERRICK JEFFREY B',\n",
      " 'SHERRIFF JOHN R',\n",
      " 'SKILLING JEFFREY K',\n",
      " 'STABLER FRANK',\n",
      " 'SULLIVAN-SHAKLOVITZ COLLEEN',\n",
      " 'SUNDE MARTIN',\n",
      " 'TAYLOR MITCHELL S',\n",
      " 'THE TRAVEL AGENCY IN THE PARK',\n",
      " 'THORN TERENCE H',\n",
      " 'TILNEY ELIZABETH A',\n",
      " 'TOTAL',\n",
      " 'UMANOFF ADAM S',\n",
      " 'URQUHART JOHN A',\n",
      " 'WAKEHAM JOHN',\n",
      " 'WALLS JR ROBERT H',\n",
      " 'WALTERS GARETH W',\n",
      " 'WASAFF GEORGE',\n",
      " 'WESTFAHL RICHARD K',\n",
      " 'WHALEY DAVID A',\n",
      " 'WHALLEY LAWRENCE G',\n",
      " 'WHITE JR THOMAS E',\n",
      " 'WINOKUR JR. HERBERT S',\n",
      " 'WODRASKA JOHN',\n",
      " 'WROBEL BRUCE',\n",
      " 'YEAGER F SCOTT',\n",
      " 'YEAP SOON']\n"
     ]
    }
   ],
   "source": [
    "### Nome dos funcionários da Enron por ordem alfabética.\n",
    "names = sorted(enron_dict.keys())\n",
    "\n",
    "print 'Sobrenome por ordem alfabética:'\n",
    "pretty.pprint(names) "
   ]
  },
  {
   "cell_type": "code",
   "execution_count": 76,
   "metadata": {},
   "outputs": [
    {
     "name": "stdout",
     "output_type": "stream",
     "text": [
      "Amostra de Informações no dicionário:\n",
      "{'bonus': 4175000,\n",
      " 'deferral_payments': 2869717,\n",
      " 'deferred_income': -3081055,\n",
      " 'director_fees': 'NaN',\n",
      " 'email_address': 'phillip.allen@enron.com',\n",
      " 'exercised_stock_options': 1729541,\n",
      " 'expenses': 13868,\n",
      " 'from_messages': 2195,\n",
      " 'from_poi_to_this_person': 47,\n",
      " 'from_this_person_to_poi': 65,\n",
      " 'loan_advances': 'NaN',\n",
      " 'long_term_incentive': 304805,\n",
      " 'other': 152,\n",
      " 'poi': False,\n",
      " 'restricted_stock': 126027,\n",
      " 'restricted_stock_deferred': -126027,\n",
      " 'salary': 201955,\n",
      " 'shared_receipt_with_poi': 1407,\n",
      " 'to_messages': 2902,\n",
      " 'total_payments': 4484442,\n",
      " 'total_stock_value': 1729541}\n"
     ]
    }
   ],
   "source": [
    "###Verificar o exemplo de valores trazidos por cada nome. \n",
    "print 'Amostra de Informações no dicionário:'\n",
    "pretty.pprint(enron_dict['ALLEN PHILLIP K'])\n",
    "###Será necessário um .info() para verificar os dados totais."
   ]
  },
  {
   "cell_type": "code",
   "execution_count": 77,
   "metadata": {},
   "outputs": [],
   "source": [
    "### Vamos transformar o Dicionário para CSV para facilitar leituras futuras.\n",
    "\n",
    "fieldnames = ['name'] + enron_dict['METTS MARK'].keys()\n",
    "\n",
    "with open('enron.csv', 'w') as csvfile:\n",
    "    writer = csv.DictWriter(csvfile, fieldnames=fieldnames)\n",
    "\n",
    "    writer.writeheader()\n",
    "    for name in enron_dict.keys():\n",
    "        if name != 'TOTAL':\n",
    "            n = {'name':name}\n",
    "            n.update(enron_dict[name])\n",
    "            writer.writerow(n)      \n"
   ]
  },
  {
   "cell_type": "code",
   "execution_count": 78,
   "metadata": {},
   "outputs": [],
   "source": [
    "#Vamos ler o CSV em Pandas.\n",
    "enron = pd.read_csv('enron.csv')"
   ]
  },
  {
   "cell_type": "code",
   "execution_count": 79,
   "metadata": {},
   "outputs": [
    {
     "name": "stdout",
     "output_type": "stream",
     "text": [
      "<class 'pandas.core.frame.DataFrame'>\n",
      "RangeIndex: 145 entries, 0 to 144\n",
      "Data columns (total 22 columns):\n",
      "name                         145 non-null object\n",
      "salary                       94 non-null float64\n",
      "to_messages                  86 non-null float64\n",
      "deferral_payments            38 non-null float64\n",
      "total_payments               124 non-null float64\n",
      "exercised_stock_options      101 non-null float64\n",
      "bonus                        81 non-null float64\n",
      "restricted_stock             109 non-null float64\n",
      "shared_receipt_with_poi      86 non-null float64\n",
      "restricted_stock_deferred    17 non-null float64\n",
      "total_stock_value            125 non-null float64\n",
      "expenses                     94 non-null float64\n",
      "loan_advances                3 non-null float64\n",
      "from_messages                86 non-null float64\n",
      "other                        92 non-null float64\n",
      "from_this_person_to_poi      86 non-null float64\n",
      "poi                          145 non-null bool\n",
      "director_fees                16 non-null float64\n",
      "deferred_income              48 non-null float64\n",
      "long_term_incentive          65 non-null float64\n",
      "email_address                111 non-null object\n",
      "from_poi_to_this_person      86 non-null float64\n",
      "dtypes: bool(1), float64(19), object(2)\n",
      "memory usage: 24.0+ KB\n"
     ]
    }
   ],
   "source": [
    "enron.info()"
   ]
  },
  {
   "cell_type": "code",
   "execution_count": 80,
   "metadata": {},
   "outputs": [
    {
     "name": "stdout",
     "output_type": "stream",
     "text": [
      "['name', 'salary', 'to_messages', 'deferral_payments', 'total_payments', 'exercised_stock_options', 'bonus', 'restricted_stock', 'shared_receipt_with_poi', 'restricted_stock_deferred', 'total_stock_value', 'expenses', 'loan_advances', 'from_messages', 'other', 'from_this_person_to_poi', 'poi', 'director_fees', 'deferred_income', 'long_term_incentive', 'email_address', 'from_poi_to_this_person']\n"
     ]
    }
   ],
   "source": [
    "features_full_list_original = enron.columns.tolist()\n",
    "print features_full_list_original "
   ]
  },
  {
   "cell_type": "code",
   "execution_count": 81,
   "metadata": {},
   "outputs": [],
   "source": [
    "#Vamos adicionar uma coluna total_be com a soma de 'bonus' e 'exercised_stock_options', incluindo zeros onde for vazio.\n",
    "enron['total_be'] = enron['bonus'].fillna(0.0) + enron['exercised_stock_options'].fillna(0.0)"
   ]
  },
  {
   "cell_type": "code",
   "execution_count": 82,
   "metadata": {},
   "outputs": [],
   "source": [
    "#Vamos adicionar a coluna 'total_millions', somando 'total_payments' e 'total_stock_value' ajustando a escala (/1000000).\n",
    "enron['total_millions'] = (enron['total_payments'].fillna(0.0) + enron['total_stock_value'].fillna(0.0))/1000000"
   ]
  },
  {
   "cell_type": "code",
   "execution_count": 83,
   "metadata": {},
   "outputs": [],
   "source": [
    "#Vamos adicionar colunas com a proporção entre enviados e recebido de POIs.\n",
    "enron['fraction_to_poi'] = enron['from_this_person_to_poi'].fillna(0.0)/enron['from_messages'].fillna(0.0)\n",
    "enron['fraction_from_poi'] = enron['from_poi_to_this_person'].fillna(0.0)/enron['to_messages'].fillna(0.0)"
   ]
  },
  {
   "cell_type": "markdown",
   "metadata": {},
   "source": [
    "### Informações do Banco de Dados"
   ]
  },
  {
   "cell_type": "code",
   "execution_count": 84,
   "metadata": {},
   "outputs": [
    {
     "name": "stdout",
     "output_type": "stream",
     "text": [
      "<class 'pandas.core.frame.DataFrame'>\n",
      "RangeIndex: 145 entries, 0 to 144\n",
      "Data columns (total 26 columns):\n",
      "name                         145 non-null object\n",
      "salary                       94 non-null float64\n",
      "to_messages                  86 non-null float64\n",
      "deferral_payments            38 non-null float64\n",
      "total_payments               124 non-null float64\n",
      "exercised_stock_options      101 non-null float64\n",
      "bonus                        81 non-null float64\n",
      "restricted_stock             109 non-null float64\n",
      "shared_receipt_with_poi      86 non-null float64\n",
      "restricted_stock_deferred    17 non-null float64\n",
      "total_stock_value            125 non-null float64\n",
      "expenses                     94 non-null float64\n",
      "loan_advances                3 non-null float64\n",
      "from_messages                86 non-null float64\n",
      "other                        92 non-null float64\n",
      "from_this_person_to_poi      86 non-null float64\n",
      "poi                          145 non-null bool\n",
      "director_fees                16 non-null float64\n",
      "deferred_income              48 non-null float64\n",
      "long_term_incentive          65 non-null float64\n",
      "email_address                111 non-null object\n",
      "from_poi_to_this_person      86 non-null float64\n",
      "total_be                     145 non-null float64\n",
      "total_millions               145 non-null float64\n",
      "fraction_to_poi              86 non-null float64\n",
      "fraction_from_poi            86 non-null float64\n",
      "dtypes: bool(1), float64(23), object(2)\n",
      "memory usage: 28.5+ KB\n"
     ]
    }
   ],
   "source": [
    "#Informações do Banco de Dados Enron.\n",
    "enron.info()"
   ]
  },
  {
   "cell_type": "markdown",
   "metadata": {},
   "source": [
    "Com as informações apresentadas em .info(),acima, podemos observar que podemos limitar nossa seleção de colunas. Algumas de nossas colunas têm muitos  dados ausentes, que representa aqueles que podemos remover. \n",
    "\n",
    "Colunas como \"restricted_stock_deferred\", \"loan_advances\" e \"director_fees\" podem ser alguns dos que podemos eliminar. \n",
    "\n",
    "Há colunas que parecem nos fornecer as mesmas informações, como \"shared_receipt_with_poi\", \"to_messages\", \"from_messages\", \"from_this_person_to_poi\" e \"from_poi_to_this_person\", todos informando sobre o comportamento de e-mail da pessoa e todos têm a mesma contagem de dados, 86.\n",
    "\n",
    "As colunas que podem ser relevantes são as que possuem informação sobre o dinheiro: \"salário\", \"total_payments\", \"exercised_stock_options\", \"bonus\", \"restricted_stock\" e \"total_stock_value\".\n"
   ]
  },
  {
   "cell_type": "markdown",
   "metadata": {},
   "source": [
    "### Estatística"
   ]
  },
  {
   "cell_type": "code",
   "execution_count": 85,
   "metadata": {},
   "outputs": [
    {
     "name": "stdout",
     "output_type": "stream",
     "text": [
      "O conjunto de dados contêm: 18 POIs.\n"
     ]
    },
    {
     "data": {
      "image/png": "[encoded data removed]",
      "text/plain": [
       "<matplotlib.figure.Figure at 0xcb5ceb8>"
      ]
     },
     "metadata": {
      "needs_background": "light"
     },
     "output_type": "display_data"
    }
   ],
   "source": [
    "#Quantidade de pontos de interesse no banco de dados.\n",
    "enron['poi'] = enron['poi'].apply(lambda x: 1 if x else 0)\n",
    "poi = enron.poi.value_counts()\n",
    "\n",
    "\n",
    "plt.figure(figsize=(12,4));\n",
    "sns.barplot(poi.index, poi.values, alpha=0.8);\n",
    "plt.xlabel('Person of Interest', fontsize=12);\n",
    "plt.ylabel('Occurence count', fontsize=12);\n",
    "\n",
    "print ('O conjunto de dados contêm: %s POIs.' % sum(enron['poi']))\n",
    "\n"
   ]
  },
  {
   "cell_type": "code",
   "execution_count": 86,
   "metadata": {},
   "outputs": [
    {
     "data": {
      "text/html": [
       "<div>\n",
       "<style scoped>\n",
       "    .dataframe tbody tr th:only-of-type {\n",
       "        vertical-align: middle;\n",
       "    }\n",
       "\n",
       "    .dataframe tbody tr th {\n",
       "        vertical-align: top;\n",
       "    }\n",
       "\n",
       "    .dataframe thead th {\n",
       "        text-align: right;\n",
       "    }\n",
       "</style>\n",
       "<table border=\"1\" class=\"dataframe\">\n",
       "  <thead>\n",
       "    <tr style=\"text-align: right;\">\n",
       "      <th></th>\n",
       "      <th>salary</th>\n",
       "      <th>bonus</th>\n",
       "      <th>exercised_stock_options</th>\n",
       "      <th>total_stock_value</th>\n",
       "      <th>total_payments</th>\n",
       "      <th>total_be</th>\n",
       "      <th>total_millions</th>\n",
       "    </tr>\n",
       "  </thead>\n",
       "  <tbody>\n",
       "    <tr>\n",
       "      <th>count</th>\n",
       "      <td>7.700000e+01</td>\n",
       "      <td>6.500000e+01</td>\n",
       "      <td>8.900000e+01</td>\n",
       "      <td>1.070000e+02</td>\n",
       "      <td>1.060000e+02</td>\n",
       "      <td>1.270000e+02</td>\n",
       "      <td>127.000000</td>\n",
       "    </tr>\n",
       "    <tr>\n",
       "      <th>mean</th>\n",
       "      <td>2.621515e+05</td>\n",
       "      <td>9.868249e+05</td>\n",
       "      <td>1.947752e+06</td>\n",
       "      <td>2.374085e+06</td>\n",
       "      <td>1.725091e+06</td>\n",
       "      <td>1.870028e+06</td>\n",
       "      <td>3.440052</td>\n",
       "    </tr>\n",
       "    <tr>\n",
       "      <th>std</th>\n",
       "      <td>1.392317e+05</td>\n",
       "      <td>1.173880e+06</td>\n",
       "      <td>2.547068e+06</td>\n",
       "      <td>3.535017e+06</td>\n",
       "      <td>2.618288e+06</td>\n",
       "      <td>2.693997e+06</td>\n",
       "      <td>4.839977</td>\n",
       "    </tr>\n",
       "    <tr>\n",
       "      <th>min</th>\n",
       "      <td>4.770000e+02</td>\n",
       "      <td>7.000000e+04</td>\n",
       "      <td>3.285000e+03</td>\n",
       "      <td>-4.409300e+04</td>\n",
       "      <td>1.480000e+02</td>\n",
       "      <td>0.000000e+00</td>\n",
       "      <td>0.000000</td>\n",
       "    </tr>\n",
       "    <tr>\n",
       "      <th>25%</th>\n",
       "      <td>2.061210e+05</td>\n",
       "      <td>4.000000e+05</td>\n",
       "      <td>4.365150e+05</td>\n",
       "      <td>4.246845e+05</td>\n",
       "      <td>3.304798e+05</td>\n",
       "      <td>2.213790e+05</td>\n",
       "      <td>0.507935</td>\n",
       "    </tr>\n",
       "    <tr>\n",
       "      <th>50%</th>\n",
       "      <td>2.516540e+05</td>\n",
       "      <td>7.000000e+05</td>\n",
       "      <td>1.030329e+06</td>\n",
       "      <td>1.030329e+06</td>\n",
       "      <td>1.056092e+06</td>\n",
       "      <td>8.862310e+05</td>\n",
       "      <td>1.884748</td>\n",
       "    </tr>\n",
       "    <tr>\n",
       "      <th>75%</th>\n",
       "      <td>2.885890e+05</td>\n",
       "      <td>1.000000e+06</td>\n",
       "      <td>2.165172e+06</td>\n",
       "      <td>2.307584e+06</td>\n",
       "      <td>2.006025e+06</td>\n",
       "      <td>2.250522e+06</td>\n",
       "      <td>4.317325</td>\n",
       "    </tr>\n",
       "    <tr>\n",
       "      <th>max</th>\n",
       "      <td>1.060932e+06</td>\n",
       "      <td>8.000000e+06</td>\n",
       "      <td>1.536417e+07</td>\n",
       "      <td>2.381793e+07</td>\n",
       "      <td>1.725253e+07</td>\n",
       "      <td>1.636417e+07</td>\n",
       "      <td>31.874715</td>\n",
       "    </tr>\n",
       "  </tbody>\n",
       "</table>\n",
       "</div>"
      ],
      "text/plain": [
       "             salary         bonus  exercised_stock_options  total_stock_value  \\\n",
       "count  7.700000e+01  6.500000e+01             8.900000e+01       1.070000e+02   \n",
       "mean   2.621515e+05  9.868249e+05             1.947752e+06       2.374085e+06   \n",
       "std    1.392317e+05  1.173880e+06             2.547068e+06       3.535017e+06   \n",
       "min    4.770000e+02  7.000000e+04             3.285000e+03      -4.409300e+04   \n",
       "25%    2.061210e+05  4.000000e+05             4.365150e+05       4.246845e+05   \n",
       "50%    2.516540e+05  7.000000e+05             1.030329e+06       1.030329e+06   \n",
       "75%    2.885890e+05  1.000000e+06             2.165172e+06       2.307584e+06   \n",
       "max    1.060932e+06  8.000000e+06             1.536417e+07       2.381793e+07   \n",
       "\n",
       "       total_payments      total_be  total_millions  \n",
       "count    1.060000e+02  1.270000e+02      127.000000  \n",
       "mean     1.725091e+06  1.870028e+06        3.440052  \n",
       "std      2.618288e+06  2.693997e+06        4.839977  \n",
       "min      1.480000e+02  0.000000e+00        0.000000  \n",
       "25%      3.304798e+05  2.213790e+05        0.507935  \n",
       "50%      1.056092e+06  8.862310e+05        1.884748  \n",
       "75%      2.006025e+06  2.250522e+06        4.317325  \n",
       "max      1.725253e+07  1.636417e+07       31.874715  "
      ]
     },
     "execution_count": 86,
     "metadata": {},
     "output_type": "execute_result"
    }
   ],
   "source": [
    "# Imprimir estatísticas dos não-POIs.\n",
    "non_poi = enron[enron.poi.isin([False])]\n",
    "\n",
    "non_poi_money = non_poi[['salary','bonus','exercised_stock_options','total_stock_value',\\\n",
    "                         'total_payments','total_be','total_millions']].describe()\n",
    "non_poi_money"
   ]
  },
  {
   "cell_type": "code",
   "execution_count": 87,
   "metadata": {},
   "outputs": [
    {
     "data": {
      "text/html": [
       "<div>\n",
       "<style scoped>\n",
       "    .dataframe tbody tr th:only-of-type {\n",
       "        vertical-align: middle;\n",
       "    }\n",
       "\n",
       "    .dataframe tbody tr th {\n",
       "        vertical-align: top;\n",
       "    }\n",
       "\n",
       "    .dataframe thead th {\n",
       "        text-align: right;\n",
       "    }\n",
       "</style>\n",
       "<table border=\"1\" class=\"dataframe\">\n",
       "  <thead>\n",
       "    <tr style=\"text-align: right;\">\n",
       "      <th></th>\n",
       "      <th>shared_receipt_with_poi</th>\n",
       "      <th>to_messages</th>\n",
       "      <th>from_messages</th>\n",
       "      <th>fraction_from_poi</th>\n",
       "      <th>fraction_to_poi</th>\n",
       "    </tr>\n",
       "  </thead>\n",
       "  <tbody>\n",
       "    <tr>\n",
       "      <th>count</th>\n",
       "      <td>72.000000</td>\n",
       "      <td>72.000000</td>\n",
       "      <td>72.000000</td>\n",
       "      <td>72.000000</td>\n",
       "      <td>72.000000</td>\n",
       "    </tr>\n",
       "    <tr>\n",
       "      <th>mean</th>\n",
       "      <td>1058.527778</td>\n",
       "      <td>2007.111111</td>\n",
       "      <td>668.763889</td>\n",
       "      <td>0.036107</td>\n",
       "      <td>0.152669</td>\n",
       "    </tr>\n",
       "    <tr>\n",
       "      <th>std</th>\n",
       "      <td>1132.503757</td>\n",
       "      <td>2693.165955</td>\n",
       "      <td>1978.997801</td>\n",
       "      <td>0.041929</td>\n",
       "      <td>0.206057</td>\n",
       "    </tr>\n",
       "    <tr>\n",
       "      <th>min</th>\n",
       "      <td>2.000000</td>\n",
       "      <td>57.000000</td>\n",
       "      <td>12.000000</td>\n",
       "      <td>0.000000</td>\n",
       "      <td>0.000000</td>\n",
       "    </tr>\n",
       "    <tr>\n",
       "      <th>25%</th>\n",
       "      <td>191.500000</td>\n",
       "      <td>513.750000</td>\n",
       "      <td>20.500000</td>\n",
       "      <td>0.007760</td>\n",
       "      <td>0.000000</td>\n",
       "    </tr>\n",
       "    <tr>\n",
       "      <th>50%</th>\n",
       "      <td>594.000000</td>\n",
       "      <td>944.000000</td>\n",
       "      <td>41.000000</td>\n",
       "      <td>0.022741</td>\n",
       "      <td>0.053776</td>\n",
       "    </tr>\n",
       "    <tr>\n",
       "      <th>75%</th>\n",
       "      <td>1635.500000</td>\n",
       "      <td>2590.750000</td>\n",
       "      <td>216.500000</td>\n",
       "      <td>0.050705</td>\n",
       "      <td>0.225000</td>\n",
       "    </tr>\n",
       "    <tr>\n",
       "      <th>max</th>\n",
       "      <td>4527.000000</td>\n",
       "      <td>15149.000000</td>\n",
       "      <td>14368.000000</td>\n",
       "      <td>0.217341</td>\n",
       "      <td>1.000000</td>\n",
       "    </tr>\n",
       "  </tbody>\n",
       "</table>\n",
       "</div>"
      ],
      "text/plain": [
       "       shared_receipt_with_poi   to_messages  from_messages  \\\n",
       "count                72.000000     72.000000      72.000000   \n",
       "mean               1058.527778   2007.111111     668.763889   \n",
       "std                1132.503757   2693.165955    1978.997801   \n",
       "min                   2.000000     57.000000      12.000000   \n",
       "25%                 191.500000    513.750000      20.500000   \n",
       "50%                 594.000000    944.000000      41.000000   \n",
       "75%                1635.500000   2590.750000     216.500000   \n",
       "max                4527.000000  15149.000000   14368.000000   \n",
       "\n",
       "       fraction_from_poi  fraction_to_poi  \n",
       "count          72.000000        72.000000  \n",
       "mean            0.036107         0.152669  \n",
       "std             0.041929         0.206057  \n",
       "min             0.000000         0.000000  \n",
       "25%             0.007760         0.000000  \n",
       "50%             0.022741         0.053776  \n",
       "75%             0.050705         0.225000  \n",
       "max             0.217341         1.000000  "
      ]
     },
     "execution_count": 87,
     "metadata": {},
     "output_type": "execute_result"
    }
   ],
   "source": [
    "non_poi_email_behavior = non_poi[['shared_receipt_with_poi','to_messages',\\\n",
    "                                  'from_messages','fraction_from_poi','fraction_to_poi']].describe()\n",
    "non_poi_email_behavior"
   ]
  },
  {
   "cell_type": "markdown",
   "metadata": {},
   "source": [
    "Observando acima há resgistro de 100% do email de alguem indo para um POI. "
   ]
  },
  {
   "cell_type": "code",
   "execution_count": 88,
   "metadata": {},
   "outputs": [
    {
     "data": {
      "text/html": [
       "<div>\n",
       "<style scoped>\n",
       "    .dataframe tbody tr th:only-of-type {\n",
       "        vertical-align: middle;\n",
       "    }\n",
       "\n",
       "    .dataframe tbody tr th {\n",
       "        vertical-align: top;\n",
       "    }\n",
       "\n",
       "    .dataframe thead th {\n",
       "        text-align: right;\n",
       "    }\n",
       "</style>\n",
       "<table border=\"1\" class=\"dataframe\">\n",
       "  <thead>\n",
       "    <tr style=\"text-align: right;\">\n",
       "      <th></th>\n",
       "      <th>name</th>\n",
       "      <th>salary</th>\n",
       "      <th>total_be</th>\n",
       "      <th>restricted_stock</th>\n",
       "      <th>total_stock_value</th>\n",
       "      <th>to_messages</th>\n",
       "      <th>poi</th>\n",
       "    </tr>\n",
       "  </thead>\n",
       "  <tbody>\n",
       "    <tr>\n",
       "      <th>10</th>\n",
       "      <td>HUMPHREY GENE E</td>\n",
       "      <td>130724.0</td>\n",
       "      <td>2282768.0</td>\n",
       "      <td>NaN</td>\n",
       "      <td>2282768.0</td>\n",
       "      <td>128.0</td>\n",
       "      <td>0</td>\n",
       "    </tr>\n",
       "  </tbody>\n",
       "</table>\n",
       "</div>"
      ],
      "text/plain": [
       "               name    salary   total_be  restricted_stock  total_stock_value  \\\n",
       "10  HUMPHREY GENE E  130724.0  2282768.0               NaN          2282768.0   \n",
       "\n",
       "    to_messages  poi  \n",
       "10        128.0    0  "
      ]
     },
     "execution_count": 88,
     "metadata": {},
     "output_type": "execute_result"
    }
   ],
   "source": [
    "#Buscando o registro, que apresenta 100% na fração de envio para POI. \n",
    "enron[(enron['fraction_to_poi']>0.9)][['name','salary','total_be',\\\n",
    "                                       'restricted_stock','total_stock_value','to_messages','poi']]"
   ]
  },
  {
   "cell_type": "markdown",
   "metadata": {},
   "source": [
    "Apesar de HUMPHREY GENE E não ser um POI, tentei pesquisar informações que fossem relevantes para o projeto mas encontrei apenas informações sobre ser vice presidente da Enron Finance, e informações muito abrangentes para serem consideradas no projeto.\n",
    "\n",
    "Fonte:\n",
    "Enron Ascending: The Forgotten Years, 1984-1996\n",
    "Por Robert L. Bradley, Jr.\n",
    ">https://books.google.com.br/books?id=LgxtDwAAQBAJ&pg=PT421&lpg=PT421&dq=HUMPHREY+GENE+E+enron&source=bl&ots=v5SeYD5bBi&sig=ACfU3U23G8B8IhRhZASZkxdcXSA6FbVFkQ&hl=pt-BR&sa=X&ved=2ahUKEwjwgrGb1JjhAhVUA9QKHXisCh8Q6AEwBnoECAcQAQ#v=onepage&q=HUMPHREY%20GENE%20E%20enron&f=false"
   ]
  },
  {
   "cell_type": "code",
   "execution_count": 89,
   "metadata": {},
   "outputs": [
    {
     "data": {
      "text/html": [
       "<div>\n",
       "<style scoped>\n",
       "    .dataframe tbody tr th:only-of-type {\n",
       "        vertical-align: middle;\n",
       "    }\n",
       "\n",
       "    .dataframe tbody tr th {\n",
       "        vertical-align: top;\n",
       "    }\n",
       "\n",
       "    .dataframe thead th {\n",
       "        text-align: right;\n",
       "    }\n",
       "</style>\n",
       "<table border=\"1\" class=\"dataframe\">\n",
       "  <thead>\n",
       "    <tr style=\"text-align: right;\">\n",
       "      <th></th>\n",
       "      <th>salary</th>\n",
       "      <th>bonus</th>\n",
       "      <th>exercised_stock_options</th>\n",
       "      <th>total_stock_value</th>\n",
       "      <th>total_payments</th>\n",
       "      <th>total_be</th>\n",
       "      <th>total_millions</th>\n",
       "    </tr>\n",
       "  </thead>\n",
       "  <tbody>\n",
       "    <tr>\n",
       "      <th>count</th>\n",
       "      <td>1.700000e+01</td>\n",
       "      <td>1.600000e+01</td>\n",
       "      <td>1.200000e+01</td>\n",
       "      <td>1.800000e+01</td>\n",
       "      <td>1.800000e+01</td>\n",
       "      <td>1.800000e+01</td>\n",
       "      <td>18.000000</td>\n",
       "    </tr>\n",
       "    <tr>\n",
       "      <th>mean</th>\n",
       "      <td>3.834449e+05</td>\n",
       "      <td>2.075000e+06</td>\n",
       "      <td>1.046379e+07</td>\n",
       "      <td>9.165671e+06</td>\n",
       "      <td>7.913590e+06</td>\n",
       "      <td>8.820307e+06</td>\n",
       "      <td>17.079261</td>\n",
       "    </tr>\n",
       "    <tr>\n",
       "      <th>std</th>\n",
       "      <td>2.783597e+05</td>\n",
       "      <td>2.047437e+06</td>\n",
       "      <td>1.238259e+07</td>\n",
       "      <td>1.384117e+07</td>\n",
       "      <td>2.396549e+07</td>\n",
       "      <td>1.222914e+07</td>\n",
       "      <td>35.289434</td>\n",
       "    </tr>\n",
       "    <tr>\n",
       "      <th>min</th>\n",
       "      <td>1.584030e+05</td>\n",
       "      <td>2.000000e+05</td>\n",
       "      <td>3.847280e+05</td>\n",
       "      <td>1.260270e+05</td>\n",
       "      <td>9.109300e+04</td>\n",
       "      <td>8.000000e+05</td>\n",
       "      <td>1.765324</td>\n",
       "    </tr>\n",
       "    <tr>\n",
       "      <th>25%</th>\n",
       "      <td>2.401890e+05</td>\n",
       "      <td>7.750000e+05</td>\n",
       "      <td>1.456581e+06</td>\n",
       "      <td>1.016450e+06</td>\n",
       "      <td>1.142396e+06</td>\n",
       "      <td>1.262500e+06</td>\n",
       "      <td>3.140359</td>\n",
       "    </tr>\n",
       "    <tr>\n",
       "      <th>50%</th>\n",
       "      <td>2.786010e+05</td>\n",
       "      <td>1.275000e+06</td>\n",
       "      <td>3.914557e+06</td>\n",
       "      <td>2.206836e+06</td>\n",
       "      <td>1.754028e+06</td>\n",
       "      <td>2.079817e+06</td>\n",
       "      <td>4.434161</td>\n",
       "    </tr>\n",
       "    <tr>\n",
       "      <th>75%</th>\n",
       "      <td>4.151890e+05</td>\n",
       "      <td>2.062500e+06</td>\n",
       "      <td>1.938604e+07</td>\n",
       "      <td>1.051133e+07</td>\n",
       "      <td>2.665345e+06</td>\n",
       "      <td>7.990914e+06</td>\n",
       "      <td>11.274354</td>\n",
       "    </tr>\n",
       "    <tr>\n",
       "      <th>max</th>\n",
       "      <td>1.111258e+06</td>\n",
       "      <td>7.000000e+06</td>\n",
       "      <td>3.434838e+07</td>\n",
       "      <td>4.911008e+07</td>\n",
       "      <td>1.035598e+08</td>\n",
       "      <td>4.134838e+07</td>\n",
       "      <td>152.669871</td>\n",
       "    </tr>\n",
       "  </tbody>\n",
       "</table>\n",
       "</div>"
      ],
      "text/plain": [
       "             salary         bonus  exercised_stock_options  total_stock_value  \\\n",
       "count  1.700000e+01  1.600000e+01             1.200000e+01       1.800000e+01   \n",
       "mean   3.834449e+05  2.075000e+06             1.046379e+07       9.165671e+06   \n",
       "std    2.783597e+05  2.047437e+06             1.238259e+07       1.384117e+07   \n",
       "min    1.584030e+05  2.000000e+05             3.847280e+05       1.260270e+05   \n",
       "25%    2.401890e+05  7.750000e+05             1.456581e+06       1.016450e+06   \n",
       "50%    2.786010e+05  1.275000e+06             3.914557e+06       2.206836e+06   \n",
       "75%    4.151890e+05  2.062500e+06             1.938604e+07       1.051133e+07   \n",
       "max    1.111258e+06  7.000000e+06             3.434838e+07       4.911008e+07   \n",
       "\n",
       "       total_payments      total_be  total_millions  \n",
       "count    1.800000e+01  1.800000e+01       18.000000  \n",
       "mean     7.913590e+06  8.820307e+06       17.079261  \n",
       "std      2.396549e+07  1.222914e+07       35.289434  \n",
       "min      9.109300e+04  8.000000e+05        1.765324  \n",
       "25%      1.142396e+06  1.262500e+06        3.140359  \n",
       "50%      1.754028e+06  2.079817e+06        4.434161  \n",
       "75%      2.665345e+06  7.990914e+06       11.274354  \n",
       "max      1.035598e+08  4.134838e+07      152.669871  "
      ]
     },
     "execution_count": 89,
     "metadata": {},
     "output_type": "execute_result"
    }
   ],
   "source": [
    "#Estatísticas das pessoas de interesse.\n",
    "\n",
    "poi_info = enron[enron.poi.isin([True])]\n",
    "\n",
    "poi_money = poi_info[['salary','bonus','exercised_stock_options','total_stock_value',\\\n",
    "                      'total_payments','total_be','total_millions']].describe()\n",
    "poi_money"
   ]
  },
  {
   "cell_type": "code",
   "execution_count": 90,
   "metadata": {},
   "outputs": [
    {
     "data": {
      "text/html": [
       "<div>\n",
       "<style scoped>\n",
       "    .dataframe tbody tr th:only-of-type {\n",
       "        vertical-align: middle;\n",
       "    }\n",
       "\n",
       "    .dataframe tbody tr th {\n",
       "        vertical-align: top;\n",
       "    }\n",
       "\n",
       "    .dataframe thead th {\n",
       "        text-align: right;\n",
       "    }\n",
       "</style>\n",
       "<table border=\"1\" class=\"dataframe\">\n",
       "  <thead>\n",
       "    <tr style=\"text-align: right;\">\n",
       "      <th></th>\n",
       "      <th>shared_receipt_with_poi</th>\n",
       "      <th>to_messages</th>\n",
       "      <th>from_messages</th>\n",
       "      <th>fraction_from_poi</th>\n",
       "      <th>fraction_to_poi</th>\n",
       "    </tr>\n",
       "  </thead>\n",
       "  <tbody>\n",
       "    <tr>\n",
       "      <th>count</th>\n",
       "      <td>14.000000</td>\n",
       "      <td>14.000000</td>\n",
       "      <td>14.000000</td>\n",
       "      <td>14.000000</td>\n",
       "      <td>14.000000</td>\n",
       "    </tr>\n",
       "    <tr>\n",
       "      <th>mean</th>\n",
       "      <td>1783.000000</td>\n",
       "      <td>2417.142857</td>\n",
       "      <td>300.357143</td>\n",
       "      <td>0.047507</td>\n",
       "      <td>0.345470</td>\n",
       "    </tr>\n",
       "    <tr>\n",
       "      <th>std</th>\n",
       "      <td>1264.996625</td>\n",
       "      <td>1961.858101</td>\n",
       "      <td>805.844574</td>\n",
       "      <td>0.032085</td>\n",
       "      <td>0.156894</td>\n",
       "    </tr>\n",
       "    <tr>\n",
       "      <th>min</th>\n",
       "      <td>91.000000</td>\n",
       "      <td>225.000000</td>\n",
       "      <td>16.000000</td>\n",
       "      <td>0.021339</td>\n",
       "      <td>0.173611</td>\n",
       "    </tr>\n",
       "    <tr>\n",
       "      <th>25%</th>\n",
       "      <td>1059.250000</td>\n",
       "      <td>1115.750000</td>\n",
       "      <td>33.000000</td>\n",
       "      <td>0.026900</td>\n",
       "      <td>0.228580</td>\n",
       "    </tr>\n",
       "    <tr>\n",
       "      <th>50%</th>\n",
       "      <td>1589.000000</td>\n",
       "      <td>1875.000000</td>\n",
       "      <td>44.500000</td>\n",
       "      <td>0.030639</td>\n",
       "      <td>0.276389</td>\n",
       "    </tr>\n",
       "    <tr>\n",
       "      <th>75%</th>\n",
       "      <td>2165.250000</td>\n",
       "      <td>2969.250000</td>\n",
       "      <td>101.500000</td>\n",
       "      <td>0.059118</td>\n",
       "      <td>0.427083</td>\n",
       "    </tr>\n",
       "    <tr>\n",
       "      <th>max</th>\n",
       "      <td>5521.000000</td>\n",
       "      <td>7991.000000</td>\n",
       "      <td>3069.000000</td>\n",
       "      <td>0.136519</td>\n",
       "      <td>0.656250</td>\n",
       "    </tr>\n",
       "  </tbody>\n",
       "</table>\n",
       "</div>"
      ],
      "text/plain": [
       "       shared_receipt_with_poi  to_messages  from_messages  fraction_from_poi  \\\n",
       "count                14.000000    14.000000      14.000000          14.000000   \n",
       "mean               1783.000000  2417.142857     300.357143           0.047507   \n",
       "std                1264.996625  1961.858101     805.844574           0.032085   \n",
       "min                  91.000000   225.000000      16.000000           0.021339   \n",
       "25%                1059.250000  1115.750000      33.000000           0.026900   \n",
       "50%                1589.000000  1875.000000      44.500000           0.030639   \n",
       "75%                2165.250000  2969.250000     101.500000           0.059118   \n",
       "max                5521.000000  7991.000000    3069.000000           0.136519   \n",
       "\n",
       "       fraction_to_poi  \n",
       "count        14.000000  \n",
       "mean          0.345470  \n",
       "std           0.156894  \n",
       "min           0.173611  \n",
       "25%           0.228580  \n",
       "50%           0.276389  \n",
       "75%           0.427083  \n",
       "max           0.656250  "
      ]
     },
     "execution_count": 90,
     "metadata": {},
     "output_type": "execute_result"
    }
   ],
   "source": [
    "poi_email_behavior = poi_info[['shared_receipt_with_poi','to_messages', \\\n",
    "                               'from_messages','fraction_from_poi','fraction_to_poi']].describe()\n",
    "poi_email_behavior"
   ]
  },
  {
   "cell_type": "code",
   "execution_count": 91,
   "metadata": {},
   "outputs": [
    {
     "data": {
      "text/html": [
       "<div>\n",
       "<style scoped>\n",
       "    .dataframe tbody tr th:only-of-type {\n",
       "        vertical-align: middle;\n",
       "    }\n",
       "\n",
       "    .dataframe tbody tr th {\n",
       "        vertical-align: top;\n",
       "    }\n",
       "\n",
       "    .dataframe thead th {\n",
       "        text-align: right;\n",
       "    }\n",
       "</style>\n",
       "<table border=\"1\" class=\"dataframe\">\n",
       "  <thead>\n",
       "    <tr style=\"text-align: right;\">\n",
       "      <th></th>\n",
       "      <th>salary</th>\n",
       "      <th>bonus</th>\n",
       "      <th>exercised_stock_options</th>\n",
       "      <th>total_stock_value</th>\n",
       "      <th>total_payments</th>\n",
       "      <th>total_be</th>\n",
       "      <th>total_millions</th>\n",
       "    </tr>\n",
       "  </thead>\n",
       "  <tbody>\n",
       "    <tr>\n",
       "      <th>count</th>\n",
       "      <td>-60.000000</td>\n",
       "      <td>-4.900000e+01</td>\n",
       "      <td>-7.700000e+01</td>\n",
       "      <td>-8.900000e+01</td>\n",
       "      <td>-8.800000e+01</td>\n",
       "      <td>-1.090000e+02</td>\n",
       "      <td>-109.000000</td>\n",
       "    </tr>\n",
       "    <tr>\n",
       "      <th>mean</th>\n",
       "      <td>121293.375859</td>\n",
       "      <td>1.088175e+06</td>\n",
       "      <td>8.516041e+06</td>\n",
       "      <td>6.791586e+06</td>\n",
       "      <td>6.188499e+06</td>\n",
       "      <td>6.950279e+06</td>\n",
       "      <td>13.639208</td>\n",
       "    </tr>\n",
       "    <tr>\n",
       "      <th>std</th>\n",
       "      <td>139128.027285</td>\n",
       "      <td>8.735576e+05</td>\n",
       "      <td>9.835520e+06</td>\n",
       "      <td>1.030615e+07</td>\n",
       "      <td>2.134720e+07</td>\n",
       "      <td>9.535142e+06</td>\n",
       "      <td>30.449457</td>\n",
       "    </tr>\n",
       "    <tr>\n",
       "      <th>min</th>\n",
       "      <td>157926.000000</td>\n",
       "      <td>1.300000e+05</td>\n",
       "      <td>3.814430e+05</td>\n",
       "      <td>1.701200e+05</td>\n",
       "      <td>9.094500e+04</td>\n",
       "      <td>8.000000e+05</td>\n",
       "      <td>1.765324</td>\n",
       "    </tr>\n",
       "    <tr>\n",
       "      <th>25%</th>\n",
       "      <td>34068.000000</td>\n",
       "      <td>3.750000e+05</td>\n",
       "      <td>1.020066e+06</td>\n",
       "      <td>5.917658e+05</td>\n",
       "      <td>8.119162e+05</td>\n",
       "      <td>1.041121e+06</td>\n",
       "      <td>2.632424</td>\n",
       "    </tr>\n",
       "    <tr>\n",
       "      <th>50%</th>\n",
       "      <td>26947.000000</td>\n",
       "      <td>5.750000e+05</td>\n",
       "      <td>2.884228e+06</td>\n",
       "      <td>1.176506e+06</td>\n",
       "      <td>6.979350e+05</td>\n",
       "      <td>1.193586e+06</td>\n",
       "      <td>2.549413</td>\n",
       "    </tr>\n",
       "    <tr>\n",
       "      <th>75%</th>\n",
       "      <td>126600.000000</td>\n",
       "      <td>1.062500e+06</td>\n",
       "      <td>1.722087e+07</td>\n",
       "      <td>8.203751e+06</td>\n",
       "      <td>6.593195e+05</td>\n",
       "      <td>5.740393e+06</td>\n",
       "      <td>6.957028</td>\n",
       "    </tr>\n",
       "    <tr>\n",
       "      <th>max</th>\n",
       "      <td>50326.000000</td>\n",
       "      <td>-1.000000e+06</td>\n",
       "      <td>1.898422e+07</td>\n",
       "      <td>2.529215e+07</td>\n",
       "      <td>8.630726e+07</td>\n",
       "      <td>2.498422e+07</td>\n",
       "      <td>120.795156</td>\n",
       "    </tr>\n",
       "  </tbody>\n",
       "</table>\n",
       "</div>"
      ],
      "text/plain": [
       "              salary         bonus  exercised_stock_options  \\\n",
       "count     -60.000000 -4.900000e+01            -7.700000e+01   \n",
       "mean   121293.375859  1.088175e+06             8.516041e+06   \n",
       "std    139128.027285  8.735576e+05             9.835520e+06   \n",
       "min    157926.000000  1.300000e+05             3.814430e+05   \n",
       "25%     34068.000000  3.750000e+05             1.020066e+06   \n",
       "50%     26947.000000  5.750000e+05             2.884228e+06   \n",
       "75%    126600.000000  1.062500e+06             1.722087e+07   \n",
       "max     50326.000000 -1.000000e+06             1.898422e+07   \n",
       "\n",
       "       total_stock_value  total_payments      total_be  total_millions  \n",
       "count      -8.900000e+01   -8.800000e+01 -1.090000e+02     -109.000000  \n",
       "mean        6.791586e+06    6.188499e+06  6.950279e+06       13.639208  \n",
       "std         1.030615e+07    2.134720e+07  9.535142e+06       30.449457  \n",
       "min         1.701200e+05    9.094500e+04  8.000000e+05        1.765324  \n",
       "25%         5.917658e+05    8.119162e+05  1.041121e+06        2.632424  \n",
       "50%         1.176506e+06    6.979350e+05  1.193586e+06        2.549413  \n",
       "75%         8.203751e+06    6.593195e+05  5.740393e+06        6.957028  \n",
       "max         2.529215e+07    8.630726e+07  2.498422e+07      120.795156  "
      ]
     },
     "execution_count": 91,
     "metadata": {},
     "output_type": "execute_result"
    }
   ],
   "source": [
    "#Diferença entre os pagamentos non-poi de poi.\n",
    "dif_money = poi_money - non_poi_money\n",
    "dif_money"
   ]
  },
  {
   "cell_type": "markdown",
   "metadata": {},
   "source": [
    "Nesta estatística conseguimos observar que há uma grande diferença entre a média e o valor máximo em total_millions"
   ]
  },
  {
   "cell_type": "code",
   "execution_count": 92,
   "metadata": {},
   "outputs": [
    {
     "data": {
      "text/html": [
       "<div>\n",
       "<style scoped>\n",
       "    .dataframe tbody tr th:only-of-type {\n",
       "        vertical-align: middle;\n",
       "    }\n",
       "\n",
       "    .dataframe tbody tr th {\n",
       "        vertical-align: top;\n",
       "    }\n",
       "\n",
       "    .dataframe thead th {\n",
       "        text-align: right;\n",
       "    }\n",
       "</style>\n",
       "<table border=\"1\" class=\"dataframe\">\n",
       "  <thead>\n",
       "    <tr style=\"text-align: right;\">\n",
       "      <th></th>\n",
       "      <th>shared_receipt_with_poi</th>\n",
       "      <th>to_messages</th>\n",
       "      <th>from_messages</th>\n",
       "      <th>fraction_from_poi</th>\n",
       "      <th>fraction_to_poi</th>\n",
       "    </tr>\n",
       "  </thead>\n",
       "  <tbody>\n",
       "    <tr>\n",
       "      <th>count</th>\n",
       "      <td>-58.000000</td>\n",
       "      <td>-58.000000</td>\n",
       "      <td>-58.000000</td>\n",
       "      <td>-58.000000</td>\n",
       "      <td>-58.000000</td>\n",
       "    </tr>\n",
       "    <tr>\n",
       "      <th>mean</th>\n",
       "      <td>724.472222</td>\n",
       "      <td>410.031746</td>\n",
       "      <td>-368.406746</td>\n",
       "      <td>0.011399</td>\n",
       "      <td>0.192800</td>\n",
       "    </tr>\n",
       "    <tr>\n",
       "      <th>std</th>\n",
       "      <td>132.492868</td>\n",
       "      <td>-731.307854</td>\n",
       "      <td>-1173.153226</td>\n",
       "      <td>-0.009844</td>\n",
       "      <td>-0.049163</td>\n",
       "    </tr>\n",
       "    <tr>\n",
       "      <th>min</th>\n",
       "      <td>89.000000</td>\n",
       "      <td>168.000000</td>\n",
       "      <td>4.000000</td>\n",
       "      <td>0.021339</td>\n",
       "      <td>0.173611</td>\n",
       "    </tr>\n",
       "    <tr>\n",
       "      <th>25%</th>\n",
       "      <td>867.750000</td>\n",
       "      <td>602.000000</td>\n",
       "      <td>12.500000</td>\n",
       "      <td>0.019140</td>\n",
       "      <td>0.228580</td>\n",
       "    </tr>\n",
       "    <tr>\n",
       "      <th>50%</th>\n",
       "      <td>995.000000</td>\n",
       "      <td>931.000000</td>\n",
       "      <td>3.500000</td>\n",
       "      <td>0.007898</td>\n",
       "      <td>0.222613</td>\n",
       "    </tr>\n",
       "    <tr>\n",
       "      <th>75%</th>\n",
       "      <td>529.750000</td>\n",
       "      <td>378.500000</td>\n",
       "      <td>-115.000000</td>\n",
       "      <td>0.008413</td>\n",
       "      <td>0.202083</td>\n",
       "    </tr>\n",
       "    <tr>\n",
       "      <th>max</th>\n",
       "      <td>994.000000</td>\n",
       "      <td>-7158.000000</td>\n",
       "      <td>-11299.000000</td>\n",
       "      <td>-0.080822</td>\n",
       "      <td>-0.343750</td>\n",
       "    </tr>\n",
       "  </tbody>\n",
       "</table>\n",
       "</div>"
      ],
      "text/plain": [
       "       shared_receipt_with_poi  to_messages  from_messages  fraction_from_poi  \\\n",
       "count               -58.000000   -58.000000     -58.000000         -58.000000   \n",
       "mean                724.472222   410.031746    -368.406746           0.011399   \n",
       "std                 132.492868  -731.307854   -1173.153226          -0.009844   \n",
       "min                  89.000000   168.000000       4.000000           0.021339   \n",
       "25%                 867.750000   602.000000      12.500000           0.019140   \n",
       "50%                 995.000000   931.000000       3.500000           0.007898   \n",
       "75%                 529.750000   378.500000    -115.000000           0.008413   \n",
       "max                 994.000000 -7158.000000  -11299.000000          -0.080822   \n",
       "\n",
       "       fraction_to_poi  \n",
       "count       -58.000000  \n",
       "mean          0.192800  \n",
       "std          -0.049163  \n",
       "min           0.173611  \n",
       "25%           0.228580  \n",
       "50%           0.222613  \n",
       "75%           0.202083  \n",
       "max          -0.343750  "
      ]
     },
     "execution_count": 92,
     "metadata": {},
     "output_type": "execute_result"
    }
   ],
   "source": [
    "#Diferença no comportamento de e-mail non_poi e poi.\n",
    "dif_in_email = poi_email_behavior - non_poi_email_behavior\n",
    "dif_in_email"
   ]
  },
  {
   "cell_type": "markdown",
   "metadata": {},
   "source": [
    "A estatística do comportamento de e-mail não apresentou dados tão desproporcionais quanto a de valores."
   ]
  },
  {
   "cell_type": "code",
   "execution_count": 93,
   "metadata": {},
   "outputs": [
    {
     "data": {
      "text/html": [
       "<div>\n",
       "<style scoped>\n",
       "    .dataframe tbody tr th:only-of-type {\n",
       "        vertical-align: middle;\n",
       "    }\n",
       "\n",
       "    .dataframe tbody tr th {\n",
       "        vertical-align: top;\n",
       "    }\n",
       "\n",
       "    .dataframe thead th {\n",
       "        text-align: right;\n",
       "    }\n",
       "</style>\n",
       "<table border=\"1\" class=\"dataframe\">\n",
       "  <thead>\n",
       "    <tr style=\"text-align: right;\">\n",
       "      <th></th>\n",
       "      <th>name</th>\n",
       "      <th>salary</th>\n",
       "      <th>bonus</th>\n",
       "      <th>exercised_stock_options</th>\n",
       "      <th>total_be</th>\n",
       "      <th>total_millions</th>\n",
       "      <th>from_messages</th>\n",
       "      <th>fraction_to_poi</th>\n",
       "    </tr>\n",
       "  </thead>\n",
       "  <tbody>\n",
       "    <tr>\n",
       "      <th>65</th>\n",
       "      <td>LAY KENNETH L</td>\n",
       "      <td>1072321.0</td>\n",
       "      <td>7000000.0</td>\n",
       "      <td>34348384.0</td>\n",
       "      <td>41348384.0</td>\n",
       "      <td>152.669871</td>\n",
       "      <td>36.0</td>\n",
       "      <td>0.444444</td>\n",
       "    </tr>\n",
       "    <tr>\n",
       "      <th>95</th>\n",
       "      <td>SKILLING JEFFREY K</td>\n",
       "      <td>1111258.0</td>\n",
       "      <td>5600000.0</td>\n",
       "      <td>19250000.0</td>\n",
       "      <td>24850000.0</td>\n",
       "      <td>34.776388</td>\n",
       "      <td>108.0</td>\n",
       "      <td>0.277778</td>\n",
       "    </tr>\n",
       "    <tr>\n",
       "      <th>125</th>\n",
       "      <td>HIRKO JOSEPH</td>\n",
       "      <td>NaN</td>\n",
       "      <td>NaN</td>\n",
       "      <td>30766064.0</td>\n",
       "      <td>30766064.0</td>\n",
       "      <td>30.857157</td>\n",
       "      <td>NaN</td>\n",
       "      <td>NaN</td>\n",
       "    </tr>\n",
       "    <tr>\n",
       "      <th>88</th>\n",
       "      <td>RICE KENNETH D</td>\n",
       "      <td>420636.0</td>\n",
       "      <td>1750000.0</td>\n",
       "      <td>19794175.0</td>\n",
       "      <td>21544175.0</td>\n",
       "      <td>23.047589</td>\n",
       "      <td>18.0</td>\n",
       "      <td>0.222222</td>\n",
       "    </tr>\n",
       "    <tr>\n",
       "      <th>124</th>\n",
       "      <td>YEAGER F SCOTT</td>\n",
       "      <td>158403.0</td>\n",
       "      <td>NaN</td>\n",
       "      <td>8308552.0</td>\n",
       "      <td>8308552.0</td>\n",
       "      <td>12.245058</td>\n",
       "      <td>NaN</td>\n",
       "      <td>NaN</td>\n",
       "    </tr>\n",
       "    <tr>\n",
       "      <th>60</th>\n",
       "      <td>DELAINEY DAVID W</td>\n",
       "      <td>365163.0</td>\n",
       "      <td>3000000.0</td>\n",
       "      <td>2291113.0</td>\n",
       "      <td>5291113.0</td>\n",
       "      <td>8.362240</td>\n",
       "      <td>3069.0</td>\n",
       "      <td>0.198436</td>\n",
       "    </tr>\n",
       "    <tr>\n",
       "      <th>4</th>\n",
       "      <td>HANNON KEVIN P</td>\n",
       "      <td>243293.0</td>\n",
       "      <td>1500000.0</td>\n",
       "      <td>5538001.0</td>\n",
       "      <td>7038001.0</td>\n",
       "      <td>6.679747</td>\n",
       "      <td>32.0</td>\n",
       "      <td>0.656250</td>\n",
       "    </tr>\n",
       "    <tr>\n",
       "      <th>82</th>\n",
       "      <td>BELDEN TIMOTHY N</td>\n",
       "      <td>213999.0</td>\n",
       "      <td>5249999.0</td>\n",
       "      <td>953136.0</td>\n",
       "      <td>6203135.0</td>\n",
       "      <td>6.612335</td>\n",
       "      <td>484.0</td>\n",
       "      <td>0.223140</td>\n",
       "    </tr>\n",
       "    <tr>\n",
       "      <th>53</th>\n",
       "      <td>SHELBY REX</td>\n",
       "      <td>211844.0</td>\n",
       "      <td>200000.0</td>\n",
       "      <td>1624396.0</td>\n",
       "      <td>1824396.0</td>\n",
       "      <td>4.497501</td>\n",
       "      <td>39.0</td>\n",
       "      <td>0.358974</td>\n",
       "    </tr>\n",
       "    <tr>\n",
       "      <th>141</th>\n",
       "      <td>CAUSEY RICHARD A</td>\n",
       "      <td>415189.0</td>\n",
       "      <td>1000000.0</td>\n",
       "      <td>NaN</td>\n",
       "      <td>1000000.0</td>\n",
       "      <td>4.370821</td>\n",
       "      <td>49.0</td>\n",
       "      <td>0.244898</td>\n",
       "    </tr>\n",
       "    <tr>\n",
       "      <th>85</th>\n",
       "      <td>FASTOW ANDREW S</td>\n",
       "      <td>440698.0</td>\n",
       "      <td>1300000.0</td>\n",
       "      <td>NaN</td>\n",
       "      <td>1300000.0</td>\n",
       "      <td>4.218495</td>\n",
       "      <td>NaN</td>\n",
       "      <td>NaN</td>\n",
       "    </tr>\n",
       "    <tr>\n",
       "      <th>41</th>\n",
       "      <td>KOPPER MICHAEL J</td>\n",
       "      <td>224305.0</td>\n",
       "      <td>800000.0</td>\n",
       "      <td>NaN</td>\n",
       "      <td>800000.0</td>\n",
       "      <td>3.637644</td>\n",
       "      <td>NaN</td>\n",
       "      <td>NaN</td>\n",
       "    </tr>\n",
       "    <tr>\n",
       "      <th>134</th>\n",
       "      <td>KOENIG MARK E</td>\n",
       "      <td>309946.0</td>\n",
       "      <td>700000.0</td>\n",
       "      <td>671737.0</td>\n",
       "      <td>1371737.0</td>\n",
       "      <td>3.507476</td>\n",
       "      <td>61.0</td>\n",
       "      <td>0.245902</td>\n",
       "    </tr>\n",
       "    <tr>\n",
       "      <th>30</th>\n",
       "      <td>RIEKER PAULA H</td>\n",
       "      <td>249201.0</td>\n",
       "      <td>700000.0</td>\n",
       "      <td>1635238.0</td>\n",
       "      <td>2335238.0</td>\n",
       "      <td>3.017987</td>\n",
       "      <td>82.0</td>\n",
       "      <td>0.585366</td>\n",
       "    </tr>\n",
       "    <tr>\n",
       "      <th>76</th>\n",
       "      <td>BOWEN JR RAYMOND M</td>\n",
       "      <td>278601.0</td>\n",
       "      <td>1350000.0</td>\n",
       "      <td>NaN</td>\n",
       "      <td>1350000.0</td>\n",
       "      <td>2.921644</td>\n",
       "      <td>27.0</td>\n",
       "      <td>0.555556</td>\n",
       "    </tr>\n",
       "    <tr>\n",
       "      <th>16</th>\n",
       "      <td>COLWELL WESLEY</td>\n",
       "      <td>288542.0</td>\n",
       "      <td>1200000.0</td>\n",
       "      <td>NaN</td>\n",
       "      <td>1200000.0</td>\n",
       "      <td>2.188586</td>\n",
       "      <td>40.0</td>\n",
       "      <td>0.275000</td>\n",
       "    </tr>\n",
       "    <tr>\n",
       "      <th>144</th>\n",
       "      <td>GLISAN JR BEN F</td>\n",
       "      <td>274975.0</td>\n",
       "      <td>600000.0</td>\n",
       "      <td>384728.0</td>\n",
       "      <td>984728.0</td>\n",
       "      <td>2.050830</td>\n",
       "      <td>16.0</td>\n",
       "      <td>0.375000</td>\n",
       "    </tr>\n",
       "    <tr>\n",
       "      <th>87</th>\n",
       "      <td>CALGER CHRISTOPHER F</td>\n",
       "      <td>240189.0</td>\n",
       "      <td>1250000.0</td>\n",
       "      <td>NaN</td>\n",
       "      <td>1250000.0</td>\n",
       "      <td>1.765324</td>\n",
       "      <td>144.0</td>\n",
       "      <td>0.173611</td>\n",
       "    </tr>\n",
       "  </tbody>\n",
       "</table>\n",
       "</div>"
      ],
      "text/plain": [
       "                     name     salary      bonus  exercised_stock_options  \\\n",
       "65          LAY KENNETH L  1072321.0  7000000.0               34348384.0   \n",
       "95     SKILLING JEFFREY K  1111258.0  5600000.0               19250000.0   \n",
       "125          HIRKO JOSEPH        NaN        NaN               30766064.0   \n",
       "88         RICE KENNETH D   420636.0  1750000.0               19794175.0   \n",
       "124        YEAGER F SCOTT   158403.0        NaN                8308552.0   \n",
       "60       DELAINEY DAVID W   365163.0  3000000.0                2291113.0   \n",
       "4          HANNON KEVIN P   243293.0  1500000.0                5538001.0   \n",
       "82       BELDEN TIMOTHY N   213999.0  5249999.0                 953136.0   \n",
       "53             SHELBY REX   211844.0   200000.0                1624396.0   \n",
       "141      CAUSEY RICHARD A   415189.0  1000000.0                      NaN   \n",
       "85        FASTOW ANDREW S   440698.0  1300000.0                      NaN   \n",
       "41       KOPPER MICHAEL J   224305.0   800000.0                      NaN   \n",
       "134         KOENIG MARK E   309946.0   700000.0                 671737.0   \n",
       "30         RIEKER PAULA H   249201.0   700000.0                1635238.0   \n",
       "76     BOWEN JR RAYMOND M   278601.0  1350000.0                      NaN   \n",
       "16         COLWELL WESLEY   288542.0  1200000.0                      NaN   \n",
       "144       GLISAN JR BEN F   274975.0   600000.0                 384728.0   \n",
       "87   CALGER CHRISTOPHER F   240189.0  1250000.0                      NaN   \n",
       "\n",
       "       total_be  total_millions  from_messages  fraction_to_poi  \n",
       "65   41348384.0      152.669871           36.0         0.444444  \n",
       "95   24850000.0       34.776388          108.0         0.277778  \n",
       "125  30766064.0       30.857157            NaN              NaN  \n",
       "88   21544175.0       23.047589           18.0         0.222222  \n",
       "124   8308552.0       12.245058            NaN              NaN  \n",
       "60    5291113.0        8.362240         3069.0         0.198436  \n",
       "4     7038001.0        6.679747           32.0         0.656250  \n",
       "82    6203135.0        6.612335          484.0         0.223140  \n",
       "53    1824396.0        4.497501           39.0         0.358974  \n",
       "141   1000000.0        4.370821           49.0         0.244898  \n",
       "85    1300000.0        4.218495            NaN              NaN  \n",
       "41     800000.0        3.637644            NaN              NaN  \n",
       "134   1371737.0        3.507476           61.0         0.245902  \n",
       "30    2335238.0        3.017987           82.0         0.585366  \n",
       "76    1350000.0        2.921644           27.0         0.555556  \n",
       "16    1200000.0        2.188586           40.0         0.275000  \n",
       "144    984728.0        2.050830           16.0         0.375000  \n",
       "87    1250000.0        1.765324          144.0         0.173611  "
      ]
     },
     "execution_count": 93,
     "metadata": {},
     "output_type": "execute_result"
    }
   ],
   "source": [
    "#Vamos buscar informações em outras variáveis:\n",
    "#poi: name, salary, bonus, exercised_stock_options, total_be, from_messages e fraction_to_poi, \n",
    "#ordenados por total_millions em ordem decrescente.\n",
    "\n",
    "poi_info[['name','salary','bonus','exercised_stock_options','total_be','total_millions',\\\n",
    "          'from_messages','fraction_to_poi']].sort_values('total_millions',ascending=False)"
   ]
  },
  {
   "cell_type": "markdown",
   "metadata": {},
   "source": [
    "Mesmo sem as informações de salário e bônus Joseph Hirko, sua posse de ações (exercised_stock_options) ficam em segundo lugar abaixo somente de Kenneth Lay. \n",
    "\n",
    "A coluna \"exercited_stock_options\" parece ser um bom indicador de um POI para os casos que não obtetivermos os valores de salário e bônus disponíveis, esse  recurso que será incluído em nossa seleção final de colunas. \n",
    "\n",
    "Essas colunas podem ser ainda mais importantes quando se considera a coluna \"total_be\", vamos adiciona-la ao nosso conjunto de dados. \n",
    "\n",
    "A quantidade de envio de emails não foi uma característica que foi possível identificar algo relevante para o projeto, neste momento. "
   ]
  },
  {
   "cell_type": "markdown",
   "metadata": {},
   "source": [
    "## Verificar as Variáveis (Colunas)"
   ]
  },
  {
   "cell_type": "markdown",
   "metadata": {},
   "source": [
    "### salary"
   ]
  },
  {
   "cell_type": "code",
   "execution_count": 94,
   "metadata": {},
   "outputs": [
    {
     "data": {
      "text/plain": [
       "poi\n",
       "0    262151.506494\n",
       "1    383444.882353\n",
       "Name: salary, dtype: float64"
      ]
     },
     "execution_count": 94,
     "metadata": {},
     "output_type": "execute_result"
    }
   ],
   "source": [
    "#Média de salários.\n",
    "average_salary = enron.groupby('poi').mean()['salary']\n",
    "average_salary"
   ]
  },
  {
   "cell_type": "code",
   "execution_count": 95,
   "metadata": {},
   "outputs": [
    {
     "data": {
      "text/plain": [
       "<matplotlib.axes._subplots.AxesSubplot at 0x15801e48>"
      ]
     },
     "execution_count": 95,
     "metadata": {},
     "output_type": "execute_result"
    },
    {
     "data": {
      "image/png": "[encoded data removed]",
      "text/plain": [
       "<matplotlib.figure.Figure at 0x15801278>"
      ]
     },
     "metadata": {
      "needs_background": "light"
     },
     "output_type": "display_data"
    }
   ],
   "source": [
    "sns.boxplot(x='poi',y='salary',data=enron)"
   ]
  },
  {
   "cell_type": "markdown",
   "metadata": {},
   "source": [
    "### bonus"
   ]
  },
  {
   "cell_type": "code",
   "execution_count": 96,
   "metadata": {},
   "outputs": [
    {
     "data": {
      "text/plain": [
       "poi\n",
       "0    9.868249e+05\n",
       "1    2.075000e+06\n",
       "Name: bonus, dtype: float64"
      ]
     },
     "execution_count": 96,
     "metadata": {},
     "output_type": "execute_result"
    }
   ],
   "source": [
    "#Média de Bônus.\n",
    "average_bonus = enron.groupby('poi').mean()['bonus']\n",
    "average_bonus"
   ]
  },
  {
   "cell_type": "code",
   "execution_count": 97,
   "metadata": {},
   "outputs": [
    {
     "data": {
      "text/plain": [
       "<matplotlib.axes._subplots.AxesSubplot at 0x1576e128>"
      ]
     },
     "execution_count": 97,
     "metadata": {},
     "output_type": "execute_result"
    },
    {
     "data": {
      "image/png": "[encoded data removed]",
      "text/plain": [
       "<matplotlib.figure.Figure at 0x1577e908>"
      ]
     },
     "metadata": {
      "needs_background": "light"
     },
     "output_type": "display_data"
    }
   ],
   "source": [
    "sns.boxplot(x='poi',y='bonus',data=enron)"
   ]
  },
  {
   "cell_type": "markdown",
   "metadata": {},
   "source": [
    "É possivel observar que há bonûs de 8 milhões de dólares, o que chama a atenção."
   ]
  },
  {
   "cell_type": "code",
   "execution_count": 98,
   "metadata": {},
   "outputs": [
    {
     "data": {
      "text/html": [
       "<div>\n",
       "<style scoped>\n",
       "    .dataframe tbody tr th:only-of-type {\n",
       "        vertical-align: middle;\n",
       "    }\n",
       "\n",
       "    .dataframe tbody tr th {\n",
       "        vertical-align: top;\n",
       "    }\n",
       "\n",
       "    .dataframe thead th {\n",
       "        text-align: right;\n",
       "    }\n",
       "</style>\n",
       "<table border=\"1\" class=\"dataframe\">\n",
       "  <thead>\n",
       "    <tr style=\"text-align: right;\">\n",
       "      <th></th>\n",
       "      <th>name</th>\n",
       "      <th>salary</th>\n",
       "      <th>bonus</th>\n",
       "      <th>exercised_stock_options</th>\n",
       "      <th>restricted_stock</th>\n",
       "      <th>total_stock_value</th>\n",
       "      <th>poi</th>\n",
       "    </tr>\n",
       "  </thead>\n",
       "  <tbody>\n",
       "    <tr>\n",
       "      <th>43</th>\n",
       "      <td>LAVORATO JOHN J</td>\n",
       "      <td>339288.0</td>\n",
       "      <td>8000000.0</td>\n",
       "      <td>4158995.0</td>\n",
       "      <td>1008149.0</td>\n",
       "      <td>5167144.0</td>\n",
       "      <td>0</td>\n",
       "    </tr>\n",
       "    <tr>\n",
       "      <th>65</th>\n",
       "      <td>LAY KENNETH L</td>\n",
       "      <td>1072321.0</td>\n",
       "      <td>7000000.0</td>\n",
       "      <td>34348384.0</td>\n",
       "      <td>14761694.0</td>\n",
       "      <td>49110078.0</td>\n",
       "      <td>1</td>\n",
       "    </tr>\n",
       "    <tr>\n",
       "      <th>82</th>\n",
       "      <td>BELDEN TIMOTHY N</td>\n",
       "      <td>213999.0</td>\n",
       "      <td>5249999.0</td>\n",
       "      <td>953136.0</td>\n",
       "      <td>157569.0</td>\n",
       "      <td>1110705.0</td>\n",
       "      <td>1</td>\n",
       "    </tr>\n",
       "    <tr>\n",
       "      <th>95</th>\n",
       "      <td>SKILLING JEFFREY K</td>\n",
       "      <td>1111258.0</td>\n",
       "      <td>5600000.0</td>\n",
       "      <td>19250000.0</td>\n",
       "      <td>6843672.0</td>\n",
       "      <td>26093672.0</td>\n",
       "      <td>1</td>\n",
       "    </tr>\n",
       "  </tbody>\n",
       "</table>\n",
       "</div>"
      ],
      "text/plain": [
       "                  name     salary      bonus  exercised_stock_options  \\\n",
       "43     LAVORATO JOHN J   339288.0  8000000.0                4158995.0   \n",
       "65       LAY KENNETH L  1072321.0  7000000.0               34348384.0   \n",
       "82    BELDEN TIMOTHY N   213999.0  5249999.0                 953136.0   \n",
       "95  SKILLING JEFFREY K  1111258.0  5600000.0               19250000.0   \n",
       "\n",
       "    restricted_stock  total_stock_value  poi  \n",
       "43         1008149.0          5167144.0    0  \n",
       "65        14761694.0         49110078.0    1  \n",
       "82          157569.0          1110705.0    1  \n",
       "95         6843672.0         26093672.0    1  "
      ]
     },
     "execution_count": 98,
     "metadata": {},
     "output_type": "execute_result"
    }
   ],
   "source": [
    "enron[(enron['bonus']>5000000)][['name','salary','bonus','exercised_stock_options','restricted_stock','total_stock_value','poi']]"
   ]
  },
  {
   "cell_type": "markdown",
   "metadata": {},
   "source": [
    "Buscamos  os valores acima de 5 milhões e podemos observar qe apesar de o maior bônus não ser um POI, a sequencia de bônus acima da média permanece sendo de POIs, que são diferenças significativas.A média dos bônus entre os POIs ainda são maiores que os não-POIs.\n",
    "Desta forma, a variável bonus ainda pode ser útil no treinamento de nosso algoritmo."
   ]
  },
  {
   "cell_type": "markdown",
   "metadata": {},
   "source": [
    "### total_payments"
   ]
  },
  {
   "cell_type": "code",
   "execution_count": 99,
   "metadata": {},
   "outputs": [
    {
     "data": {
      "text/plain": [
       "poi\n",
       "0    1.725091e+06\n",
       "1    7.913590e+06\n",
       "Name: total_payments, dtype: float64"
      ]
     },
     "execution_count": 99,
     "metadata": {},
     "output_type": "execute_result"
    }
   ],
   "source": [
    "#Média de total de pagamentos.\n",
    "average_total_payments = enron.groupby('poi').mean()['total_payments']\n",
    "average_total_payments"
   ]
  },
  {
   "cell_type": "code",
   "execution_count": 100,
   "metadata": {},
   "outputs": [
    {
     "data": {
      "text/plain": [
       "<matplotlib.axes._subplots.AxesSubplot at 0x162895c0>"
      ]
     },
     "execution_count": 100,
     "metadata": {},
     "output_type": "execute_result"
    },
    {
     "data": {
      "image/png": "[encoded data removed]",
      "text/plain": [
       "<matplotlib.figure.Figure at 0x163f5240>"
      ]
     },
     "metadata": {
      "needs_background": "light"
     },
     "output_type": "display_data"
    }
   ],
   "source": [
    "sns.boxplot(x='poi',y='total_payments',data=enron)"
   ]
  },
  {
   "cell_type": "markdown",
   "metadata": {},
   "source": [
    "Aqui identificamos um outlier, que força toda a média para cima."
   ]
  },
  {
   "cell_type": "code",
   "execution_count": 101,
   "metadata": {},
   "outputs": [
    {
     "data": {
      "text/html": [
       "<div>\n",
       "<style scoped>\n",
       "    .dataframe tbody tr th:only-of-type {\n",
       "        vertical-align: middle;\n",
       "    }\n",
       "\n",
       "    .dataframe tbody tr th {\n",
       "        vertical-align: top;\n",
       "    }\n",
       "\n",
       "    .dataframe thead th {\n",
       "        text-align: right;\n",
       "    }\n",
       "</style>\n",
       "<table border=\"1\" class=\"dataframe\">\n",
       "  <thead>\n",
       "    <tr style=\"text-align: right;\">\n",
       "      <th></th>\n",
       "      <th>name</th>\n",
       "      <th>total_payments</th>\n",
       "      <th>poi</th>\n",
       "    </tr>\n",
       "  </thead>\n",
       "  <tbody>\n",
       "    <tr>\n",
       "      <th>65</th>\n",
       "      <td>LAY KENNETH L</td>\n",
       "      <td>103559793.0</td>\n",
       "      <td>1</td>\n",
       "    </tr>\n",
       "  </tbody>\n",
       "</table>\n",
       "</div>"
      ],
      "text/plain": [
       "             name  total_payments  poi\n",
       "65  LAY KENNETH L     103559793.0    1"
      ]
     },
     "execution_count": 101,
     "metadata": {},
     "output_type": "execute_result"
    }
   ],
   "source": [
    "enron[(enron['total_payments']>40000000)][['name','total_payments','poi']]"
   ]
  },
  {
   "cell_type": "markdown",
   "metadata": {},
   "source": [
    "O outlier é LAY KENNETH L. com um volume total muito acima da média.\n",
    "Pesquisando o nome no Wikipédia temos a seguinte informação:\n",
    "   \n",
    "Kenneth Lee \"Ken\" Lay (15 de abril de 1942 - 5 de julho de 2006) foi um empresário americano que se tornou conhecido durante o escândalo da Enron Corporation, empresa da qual fora fundador, chairman e CEO. Lay e Enron tornaram-se sinônimos de fraude corporativa nos Estados Unidos e no mundo inteiro no ano de 2001, quando se desencadeou o escândalo. Lay era CEO e chairman da empresa desde 1986 até sua renúncia no dia 23 de janeiro de 2002, exceto durante alguns meses de 2001, quando era apenas chairman e Jeffrey Skilling era CEO. No dia 5 de julho de 2006, Kenneth morreu de ataque cardíaco no Colorado. \n",
    "    \n",
    "    Fonte:\n",
    "    > https://pt.wikipedia.org/wiki/Kenneth_Lay\n",
    "    "
   ]
  },
  {
   "cell_type": "code",
   "execution_count": 102,
   "metadata": {},
   "outputs": [
    {
     "data": {
      "text/plain": [
       "<matplotlib.axes._subplots.AxesSubplot at 0x163e2940>"
      ]
     },
     "execution_count": 102,
     "metadata": {},
     "output_type": "execute_result"
    },
    {
     "data": {
      "image/png": "[encoded data removed]",
      "text/plain": [
       "<matplotlib.figure.Figure at 0x157e29e8>"
      ]
     },
     "metadata": {
      "needs_background": "light"
     },
     "output_type": "display_data"
    }
   ],
   "source": [
    "# Como fica box plot retirando LAY KENNETH L? \n",
    "\n",
    "kl_not_in = enron[(enron['total_payments']<40000000)]\n",
    "\n",
    "sns.boxplot(x='poi',y='total_payments',data=kl_not_in)"
   ]
  },
  {
   "cell_type": "markdown",
   "metadata": {},
   "source": [
    "A coluna total_payments provavelmente não será um utilizada, uma vez que, retirando LAY KENNETH L, os resultados para POI e não POI são semelhantes, podendo provocar distorções no nosso algoritimo."
   ]
  },
  {
   "cell_type": "markdown",
   "metadata": {},
   "source": [
    "### exercised_stock_options"
   ]
  },
  {
   "cell_type": "code",
   "execution_count": 103,
   "metadata": {},
   "outputs": [
    {
     "data": {
      "text/plain": [
       "poi\n",
       "0    1.947752e+06\n",
       "1    1.046379e+07\n",
       "Name: exercised_stock_options, dtype: float64"
      ]
     },
     "execution_count": 103,
     "metadata": {},
     "output_type": "execute_result"
    }
   ],
   "source": [
    "#Média de exercised_stock_options.\n",
    "average_optionsvalue = enron.groupby('poi').mean()['exercised_stock_options']\n",
    "average_optionsvalue"
   ]
  },
  {
   "cell_type": "code",
   "execution_count": 104,
   "metadata": {},
   "outputs": [
    {
     "data": {
      "text/plain": [
       "<matplotlib.axes._subplots.AxesSubplot at 0x1675ca58>"
      ]
     },
     "execution_count": 104,
     "metadata": {},
     "output_type": "execute_result"
    },
    {
     "data": {
      "image/png": "[encoded data removed]",
      "text/plain": [
       "<matplotlib.figure.Figure at 0x16772550>"
      ]
     },
     "metadata": {
      "needs_background": "light"
     },
     "output_type": "display_data"
    }
   ],
   "source": [
    "sns.boxplot(x='poi',y='exercised_stock_options',data=enron)"
   ]
  },
  {
   "cell_type": "markdown",
   "metadata": {},
   "source": [
    "Os resultados da coluna exercised_stock_options, são bem diferentes para POIs do que para não POIs, esse recurso será utilizado."
   ]
  },
  {
   "cell_type": "markdown",
   "metadata": {},
   "source": [
    "### total_be "
   ]
  },
  {
   "cell_type": "code",
   "execution_count": 105,
   "metadata": {},
   "outputs": [
    {
     "data": {
      "text/plain": [
       "poi\n",
       "0    1.870028e+06\n",
       "1    8.820307e+06\n",
       "Name: total_be, dtype: float64"
      ]
     },
     "execution_count": 105,
     "metadata": {},
     "output_type": "execute_result"
    }
   ],
   "source": [
    "#Média total_be (Total Bonus and Exercised Stock Options).\n",
    "average_total_sbe = enron.groupby('poi').mean()['total_be']\n",
    "average_total_sbe"
   ]
  },
  {
   "cell_type": "code",
   "execution_count": 106,
   "metadata": {},
   "outputs": [
    {
     "data": {
      "text/plain": [
       "<matplotlib.axes._subplots.AxesSubplot at 0x16a3c588>"
      ]
     },
     "execution_count": 106,
     "metadata": {},
     "output_type": "execute_result"
    },
    {
     "data": {
      "image/png": "[encoded data removed]",
      "text/plain": [
       "<matplotlib.figure.Figure at 0x168f4278>"
      ]
     },
     "metadata": {
      "needs_background": "light"
     },
     "output_type": "display_data"
    }
   ],
   "source": [
    "sns.boxplot(x='poi',y='total_be',data=enron)"
   ]
  },
  {
   "cell_type": "markdown",
   "metadata": {},
   "source": [
    "A variável total_be pode ser relevante. No entanto, devido aos outliers essa coluna pode apresentar distorções."
   ]
  },
  {
   "cell_type": "markdown",
   "metadata": {},
   "source": [
    "### total_stock_value"
   ]
  },
  {
   "cell_type": "code",
   "execution_count": 107,
   "metadata": {},
   "outputs": [
    {
     "data": {
      "text/plain": [
       "poi\n",
       "0    2.374085e+06\n",
       "1    9.165671e+06\n",
       "Name: total_stock_value, dtype: float64"
      ]
     },
     "execution_count": 107,
     "metadata": {},
     "output_type": "execute_result"
    }
   ],
   "source": [
    "#Média total_stock_value.\n",
    "average_stockvalue = enron.groupby('poi').mean()['total_stock_value']\n",
    "average_stockvalue"
   ]
  },
  {
   "cell_type": "code",
   "execution_count": 108,
   "metadata": {},
   "outputs": [
    {
     "data": {
      "text/plain": [
       "<matplotlib.axes._subplots.AxesSubplot at 0x157f5c50>"
      ]
     },
     "execution_count": 108,
     "metadata": {},
     "output_type": "execute_result"
    },
    {
     "data": {
      "image/png": "[encoded data removed]",
      "text/plain": [
       "<matplotlib.figure.Figure at 0x15582eb8>"
      ]
     },
     "metadata": {
      "needs_background": "light"
     },
     "output_type": "display_data"
    }
   ],
   "source": [
    "sns.boxplot(x='poi',y='total_stock_value',data=enron)"
   ]
  },
  {
   "cell_type": "markdown",
   "metadata": {},
   "source": [
    "Com o resultado gráfico da coluna total_stock_value, podemos observar que a média, em geral, é muito mais alta para os POIs. Neste caso iremos usar este recurso.\n"
   ]
  },
  {
   "cell_type": "markdown",
   "metadata": {},
   "source": [
    "### total_millions"
   ]
  },
  {
   "cell_type": "code",
   "execution_count": 109,
   "metadata": {},
   "outputs": [
    {
     "data": {
      "text/plain": [
       "poi\n",
       "0     3.440052\n",
       "1    17.079261\n",
       "Name: total_millions, dtype: float64"
      ]
     },
     "execution_count": 109,
     "metadata": {},
     "output_type": "execute_result"
    }
   ],
   "source": [
    "#Média total_millionsl (Total Payments and Stock Value in Millions).\n",
    "average_total_comp = enron.groupby('poi').mean()['total_millions']\n",
    "average_total_comp"
   ]
  },
  {
   "cell_type": "markdown",
   "metadata": {},
   "source": [
    "Vamos verificar graficamente sem o outilier LAY KENNETH L."
   ]
  },
  {
   "cell_type": "code",
   "execution_count": 110,
   "metadata": {},
   "outputs": [
    {
     "data": {
      "text/plain": [
       "<matplotlib.axes._subplots.AxesSubplot at 0x157fc828>"
      ]
     },
     "execution_count": 110,
     "metadata": {},
     "output_type": "execute_result"
    },
    {
     "data": {
      "image/png": "[encoded data removed]",
      "text/plain": [
       "<matplotlib.figure.Figure at 0x15555f60>"
      ]
     },
     "metadata": {
      "needs_background": "light"
     },
     "output_type": "display_data"
    }
   ],
   "source": [
    "sns.boxplot(x='poi',y='total_millions',data= kl_not_in)"
   ]
  },
  {
   "cell_type": "markdown",
   "metadata": {},
   "source": [
    "A coluna total_millions precisa ser melhor analisada."
   ]
  },
  {
   "cell_type": "markdown",
   "metadata": {},
   "source": [
    "\n",
    "### shared_receipt_with_poi"
   ]
  },
  {
   "cell_type": "code",
   "execution_count": 111,
   "metadata": {},
   "outputs": [
    {
     "data": {
      "text/plain": [
       "poi\n",
       "0    1058.527778\n",
       "1    1783.000000\n",
       "Name: shared_receipt_with_poi, dtype: float64"
      ]
     },
     "execution_count": 111,
     "metadata": {},
     "output_type": "execute_result"
    }
   ],
   "source": [
    "# Média de recibos compartilhado com POI\n",
    "average_shared_receipt = enron.groupby('poi').mean()['shared_receipt_with_poi']\n",
    "average_shared_receipt"
   ]
  },
  {
   "cell_type": "code",
   "execution_count": 112,
   "metadata": {},
   "outputs": [
    {
     "data": {
      "text/plain": [
       "<matplotlib.axes._subplots.AxesSubplot at 0x15555a90>"
      ]
     },
     "execution_count": 112,
     "metadata": {},
     "output_type": "execute_result"
    },
    {
     "data": {
      "image/png": "[encoded data removed]",
      "text/plain": [
       "<matplotlib.figure.Figure at 0x1701b2b0>"
      ]
     },
     "metadata": {
      "needs_background": "light"
     },
     "output_type": "display_data"
    }
   ],
   "source": [
    "sns.boxplot(x='poi',y='shared_receipt_with_poi',data= enron)"
   ]
  },
  {
   "cell_type": "markdown",
   "metadata": {},
   "source": [
    "### to_messages"
   ]
  },
  {
   "cell_type": "code",
   "execution_count": 113,
   "metadata": {},
   "outputs": [
    {
     "data": {
      "text/plain": [
       "<matplotlib.axes._subplots.AxesSubplot at 0x17046e80>"
      ]
     },
     "execution_count": 113,
     "metadata": {},
     "output_type": "execute_result"
    },
    {
     "data": {
      "image/png": "[encoded data removed]",
      "text/plain": [
       "<matplotlib.figure.Figure at 0x157fc320>"
      ]
     },
     "metadata": {
      "needs_background": "light"
     },
     "output_type": "display_data"
    }
   ],
   "source": [
    "sns.boxplot(x='poi',y='to_messages',data= enron)"
   ]
  },
  {
   "cell_type": "markdown",
   "metadata": {},
   "source": [
    "### from_messages"
   ]
  },
  {
   "cell_type": "code",
   "execution_count": 114,
   "metadata": {},
   "outputs": [
    {
     "data": {
      "text/plain": [
       "poi\n",
       "0    668.763889\n",
       "1    300.357143\n",
       "Name: from_messages, dtype: float64"
      ]
     },
     "execution_count": 114,
     "metadata": {},
     "output_type": "execute_result"
    }
   ],
   "source": [
    "average_from = enron.groupby('poi').mean()['from_messages']\n",
    "average_from"
   ]
  },
  {
   "cell_type": "code",
   "execution_count": 115,
   "metadata": {},
   "outputs": [
    {
     "data": {
      "text/plain": [
       "<matplotlib.axes._subplots.AxesSubplot at 0x171b54e0>"
      ]
     },
     "execution_count": 115,
     "metadata": {},
     "output_type": "execute_result"
    },
    {
     "data": {
      "image/png": "[encoded data removed]",
      "text/plain": [
       "<matplotlib.figure.Figure at 0x172f3b00>"
      ]
     },
     "metadata": {
      "needs_background": "light"
     },
     "output_type": "display_data"
    }
   ],
   "source": [
    "sns.boxplot(x='poi',y='from_messages',data= enron)"
   ]
  },
  {
   "cell_type": "markdown",
   "metadata": {},
   "source": [
    "### fraction_to_poi"
   ]
  },
  {
   "cell_type": "code",
   "execution_count": 116,
   "metadata": {},
   "outputs": [
    {
     "data": {
      "text/plain": [
       "poi\n",
       "0    0.152669\n",
       "1    0.345470\n",
       "Name: fraction_to_poi, dtype: float64"
      ]
     },
     "execution_count": 116,
     "metadata": {},
     "output_type": "execute_result"
    }
   ],
   "source": [
    "average_fraction_to = enron.groupby('poi').mean()['fraction_to_poi']\n",
    "average_fraction_to"
   ]
  },
  {
   "cell_type": "code",
   "execution_count": 117,
   "metadata": {},
   "outputs": [
    {
     "data": {
      "text/plain": [
       "<matplotlib.axes._subplots.AxesSubplot at 0x1753e908>"
      ]
     },
     "execution_count": 117,
     "metadata": {},
     "output_type": "execute_result"
    },
    {
     "data": {
      "image/png": "[encoded data removed]",
      "text/plain": [
       "<matplotlib.figure.Figure at 0x17462d30>"
      ]
     },
     "metadata": {
      "needs_background": "light"
     },
     "output_type": "display_data"
    }
   ],
   "source": [
    "sns.boxplot(x='poi',y='fraction_to_poi',data= enron)"
   ]
  },
  {
   "cell_type": "markdown",
   "metadata": {},
   "source": [
    "A maior parte da distribuição poi está na faixa superior da distribuição non-poi, Fraction_to_poi será adicionado a nossa lista."
   ]
  },
  {
   "cell_type": "markdown",
   "metadata": {},
   "source": [
    "### fraction_from_poi"
   ]
  },
  {
   "cell_type": "code",
   "execution_count": 118,
   "metadata": {},
   "outputs": [
    {
     "data": {
      "text/plain": [
       "poi\n",
       "0    0.036107\n",
       "1    0.047507\n",
       "Name: fraction_from_poi, dtype: float64"
      ]
     },
     "execution_count": 118,
     "metadata": {},
     "output_type": "execute_result"
    }
   ],
   "source": [
    "average_fraction_from = enron.groupby('poi').mean()['fraction_from_poi']\n",
    "average_fraction_from"
   ]
  },
  {
   "cell_type": "code",
   "execution_count": 119,
   "metadata": {},
   "outputs": [
    {
     "data": {
      "text/plain": [
       "<matplotlib.axes._subplots.AxesSubplot at 0x17759ba8>"
      ]
     },
     "execution_count": 119,
     "metadata": {},
     "output_type": "execute_result"
    },
    {
     "data": {
      "image/png": "[encoded data removed]",
      "text/plain": [
       "<matplotlib.figure.Figure at 0x17741438>"
      ]
     },
     "metadata": {
      "needs_background": "light"
     },
     "output_type": "display_data"
    }
   ],
   "source": [
    "sns.boxplot(x='poi',y='fraction_from_poi',data= enron)"
   ]
  },
  {
   "cell_type": "markdown",
   "metadata": {},
   "source": [
    "Vamos olhar as estatísticas um pouco mais de longe com o Pairplot."
   ]
  },
  {
   "cell_type": "code",
   "execution_count": 120,
   "metadata": {},
   "outputs": [
    {
     "data": {
      "image/png": "[encoded data removed]",
      "text/plain": [
       "<matplotlib.figure.Figure at 0xf139518>"
      ]
     },
     "metadata": {},
     "output_type": "display_data"
    }
   ],
   "source": [
    "import seaborn as sns; sns.set(style=\"whitegrid\", color_codes=True)\n",
    "\n",
    "g = sns.pairplot(enron, vars=[ 'total_payments','bonus','exercised_stock_options','from_messages','fraction_to_poi'],\n",
    "                 dropna=True, diag_kind=\"auto\", hue='poi', markers=['x','o'])"
   ]
  },
  {
   "cell_type": "markdown",
   "metadata": {},
   "source": [
    "## Outliers\n",
    "\n",
    "Vamos dar uma olhada mais de perto no seguinte Lmplot.\n",
    "Agora, vamos ver que outros valores discrepantes podemos encontrar. No parplot acima, havia dois POIs que realmente se destacaram.\n",
    "\n",
    "**Obs: Os valores de não POI estão altos devido a variável \"TOTAL\" no dicionário, que será aliminada antes de realizarmos os testes** \n"
   ]
  },
  {
   "cell_type": "code",
   "execution_count": 121,
   "metadata": {},
   "outputs": [
    {
     "name": "stderr",
     "output_type": "stream",
     "text": [
      "C:\\Users\\diego\\Anaconda2\\lib\\site-packages\\seaborn\\regression.py:546: UserWarning: The `size` paramter has been renamed to `height`; please update your code.\n",
      "  warnings.warn(msg, UserWarning)\n"
     ]
    },
    {
     "data": {
      "text/plain": [
       "<matplotlib.text.Text at 0x1a1bd240>"
      ]
     },
     "execution_count": 121,
     "metadata": {},
     "output_type": "execute_result"
    },
    {
     "data": {
      "image/png": "[encoded data removed]",
      "text/plain": [
       "<matplotlib.figure.Figure at 0x1a357630>"
      ]
     },
     "metadata": {},
     "output_type": "display_data"
    }
   ],
   "source": [
    "sns.lmplot(x='bonus', y= 'salary', hue='poi', data=enron, palette='Set2',size=10,markers=['x','o'])\n",
    "plt.title('Salary/Bonus for POI and non-POI', fontsize=12)\n",
    "plt.xlabel('Bonus', fontsize=16)\n",
    "plt.ylabel('Salary', fontsize=16)"
   ]
  },
  {
   "cell_type": "code",
   "execution_count": 122,
   "metadata": {},
   "outputs": [
    {
     "data": {
      "text/html": [
       "<div>\n",
       "<style scoped>\n",
       "    .dataframe tbody tr th:only-of-type {\n",
       "        vertical-align: middle;\n",
       "    }\n",
       "\n",
       "    .dataframe tbody tr th {\n",
       "        vertical-align: top;\n",
       "    }\n",
       "\n",
       "    .dataframe thead th {\n",
       "        text-align: right;\n",
       "    }\n",
       "</style>\n",
       "<table border=\"1\" class=\"dataframe\">\n",
       "  <thead>\n",
       "    <tr style=\"text-align: right;\">\n",
       "      <th></th>\n",
       "      <th>name</th>\n",
       "      <th>salary</th>\n",
       "      <th>bonus</th>\n",
       "      <th>poi</th>\n",
       "    </tr>\n",
       "  </thead>\n",
       "  <tbody>\n",
       "    <tr>\n",
       "      <th>65</th>\n",
       "      <td>LAY KENNETH L</td>\n",
       "      <td>1072321.0</td>\n",
       "      <td>7000000.0</td>\n",
       "      <td>1</td>\n",
       "    </tr>\n",
       "    <tr>\n",
       "      <th>95</th>\n",
       "      <td>SKILLING JEFFREY K</td>\n",
       "      <td>1111258.0</td>\n",
       "      <td>5600000.0</td>\n",
       "      <td>1</td>\n",
       "    </tr>\n",
       "    <tr>\n",
       "      <th>128</th>\n",
       "      <td>FREVERT MARK A</td>\n",
       "      <td>1060932.0</td>\n",
       "      <td>2000000.0</td>\n",
       "      <td>0</td>\n",
       "    </tr>\n",
       "  </tbody>\n",
       "</table>\n",
       "</div>"
      ],
      "text/plain": [
       "                   name     salary      bonus  poi\n",
       "65        LAY KENNETH L  1072321.0  7000000.0    1\n",
       "95   SKILLING JEFFREY K  1111258.0  5600000.0    1\n",
       "128      FREVERT MARK A  1060932.0  2000000.0    0"
      ]
     },
     "execution_count": 122,
     "metadata": {},
     "output_type": "execute_result"
    }
   ],
   "source": [
    "# Quem são os dois outliers em laranja com o alto salário e alto bônus?\n",
    "enron[(enron['salary']>1000000)][['name','salary','bonus','poi']]"
   ]
  },
  {
   "cell_type": "markdown",
   "metadata": {},
   "source": [
    "Conseguimos informações anteriores de LAY KENNETH L.\n",
    "\n",
    "Agora Informações sobre SKILLING JEFFREY K:\n",
    "\n",
    "Jeffrey Keith Skilling (nascido em 25 de novembro de 1953) é um criminoso condenado e antigo empresário americano, mais conhecido como o CEO da Enron Corporation durante o escândalo da Enron. Em 2006, ele foi condenado por acusações de federal crime relacionados com o colapso da Enron e eventualmente condenado a 24 anos de prisão. O Supremo Tribunal dos Estados Unidos ouviu argumentos no recurso do caso 1 de março de 2010. [2] [3] em 24 de junho de 2010, o Supremo Tribunal desocupou parte da condenação do Skilling e transferido o caso de volta para o Tribunal de instância inferior para julgamento.\n",
    "\n",
    "Fonte:\n",
    ">https://en.wikipedia.org/wiki/Jeffrey_Skilling"
   ]
  },
  {
   "cell_type": "markdown",
   "metadata": {},
   "source": [
    "Também podemos encontrar alguns datapoints que estão causando ruído, verificando a existência de muitos valores ausentes nas linhas."
   ]
  },
  {
   "cell_type": "code",
   "execution_count": 123,
   "metadata": {},
   "outputs": [
    {
     "name": "stdout",
     "output_type": "stream",
     "text": [
      "name                         LOCKHART EUGENE E\n",
      "salary                                     NaN\n",
      "to_messages                                NaN\n",
      "deferral_payments                          NaN\n",
      "total_payments                             NaN\n",
      "exercised_stock_options                    NaN\n",
      "bonus                                      NaN\n",
      "restricted_stock                           NaN\n",
      "shared_receipt_with_poi                    NaN\n",
      "restricted_stock_deferred                  NaN\n",
      "total_stock_value                          NaN\n",
      "expenses                                   NaN\n",
      "loan_advances                              NaN\n",
      "from_messages                              NaN\n",
      "other                                      NaN\n",
      "from_this_person_to_poi                    NaN\n",
      "poi                                          0\n",
      "director_fees                              NaN\n",
      "deferred_income                            NaN\n",
      "long_term_incentive                        NaN\n",
      "email_address                              NaN\n",
      "from_poi_to_this_person                    NaN\n",
      "total_be                                     0\n",
      "total_millions                               0\n",
      "fraction_to_poi                            NaN\n",
      "fraction_from_poi                          NaN\n",
      "Name: 90, dtype: object\n"
     ]
    }
   ],
   "source": [
    "# verifique mais de 20 valores ausentes para cada ponto de dados\n",
    "i = 0\n",
    "\n",
    "for row in enron.isnull().sum(axis=1):\n",
    "    if row > 20:\n",
    "        print enron.iloc[i]\n",
    "    i+=1"
   ]
  },
  {
   "cell_type": "code",
   "execution_count": 124,
   "metadata": {},
   "outputs": [
    {
     "data": {
      "text/plain": [
       "name                           0\n",
       "salary                        51\n",
       "to_messages                   59\n",
       "deferral_payments            107\n",
       "total_payments                21\n",
       "exercised_stock_options       44\n",
       "bonus                         64\n",
       "restricted_stock              36\n",
       "shared_receipt_with_poi       59\n",
       "restricted_stock_deferred    128\n",
       "total_stock_value             20\n",
       "expenses                      51\n",
       "loan_advances                142\n",
       "from_messages                 59\n",
       "other                         53\n",
       "from_this_person_to_poi       59\n",
       "poi                            0\n",
       "director_fees                129\n",
       "deferred_income               97\n",
       "long_term_incentive           80\n",
       "email_address                 34\n",
       "from_poi_to_this_person       59\n",
       "total_be                       0\n",
       "total_millions                 0\n",
       "fraction_to_poi               59\n",
       "fraction_from_poi             59\n",
       "dtype: int64"
      ]
     },
     "execution_count": 124,
     "metadata": {},
     "output_type": "execute_result"
    }
   ],
   "source": [
    "#verificar se há valores ausentes nos recursos\n",
    "enron.isnull().sum()"
   ]
  },
  {
   "cell_type": "markdown",
   "metadata": {},
   "source": [
    "Em loan_advances há 142 valores sem informação. \n",
    "Essa coluna será descartada antes de iniciarmos os testes."
   ]
  },
  {
   "cell_type": "code",
   "execution_count": 125,
   "metadata": {},
   "outputs": [
    {
     "name": "stdout",
     "output_type": "stream",
     "text": [
      "<class 'pandas.core.frame.DataFrame'>\n",
      "RangeIndex: 145 entries, 0 to 144\n",
      "Data columns (total 26 columns):\n",
      "name                         145 non-null object\n",
      "salary                       94 non-null float64\n",
      "to_messages                  86 non-null float64\n",
      "deferral_payments            38 non-null float64\n",
      "total_payments               124 non-null float64\n",
      "exercised_stock_options      101 non-null float64\n",
      "bonus                        81 non-null float64\n",
      "restricted_stock             109 non-null float64\n",
      "shared_receipt_with_poi      86 non-null float64\n",
      "restricted_stock_deferred    17 non-null float64\n",
      "total_stock_value            125 non-null float64\n",
      "expenses                     94 non-null float64\n",
      "loan_advances                3 non-null float64\n",
      "from_messages                86 non-null float64\n",
      "other                        92 non-null float64\n",
      "from_this_person_to_poi      86 non-null float64\n",
      "poi                          145 non-null int64\n",
      "director_fees                16 non-null float64\n",
      "deferred_income              48 non-null float64\n",
      "long_term_incentive          65 non-null float64\n",
      "email_address                111 non-null object\n",
      "from_poi_to_this_person      86 non-null float64\n",
      "total_be                     145 non-null float64\n",
      "total_millions               145 non-null float64\n",
      "fraction_to_poi              86 non-null float64\n",
      "fraction_from_poi            86 non-null float64\n",
      "dtypes: float64(23), int64(1), object(2)\n",
      "memory usage: 29.5+ KB\n"
     ]
    }
   ],
   "source": [
    "enron.info()"
   ]
  },
  {
   "cell_type": "markdown",
   "metadata": {},
   "source": [
    "Modelo de Regressão para recursos e mensagens."
   ]
  },
  {
   "cell_type": "code",
   "execution_count": 126,
   "metadata": {},
   "outputs": [
    {
     "name": "stderr",
     "output_type": "stream",
     "text": [
      "C:\\Users\\diego\\Anaconda2\\lib\\site-packages\\seaborn\\regression.py:546: UserWarning: The `size` paramter has been renamed to `height`; please update your code.\n",
      "  warnings.warn(msg, UserWarning)\n"
     ]
    },
    {
     "data": {
      "text/plain": [
       "<matplotlib.text.Text at 0x1a582fd0>"
      ]
     },
     "execution_count": 126,
     "metadata": {},
     "output_type": "execute_result"
    },
    {
     "data": {
      "image/png": "[encoded data removed]",
      "text/plain": [
       "<matplotlib.figure.Figure at 0x1a4ef438>"
      ]
     },
     "metadata": {},
     "output_type": "display_data"
    }
   ],
   "source": [
    "sns.lmplot(x='bonus', y='fraction_to_poi', hue='poi', data=enron, palette='Set2',size=10,markers=['x','o'])\n",
    "plt.title('Money & Messages', fontsize=12)"
   ]
  },
  {
   "cell_type": "markdown",
   "metadata": {},
   "source": [
    "## Transformação, Seleção e Ajuste dos dados"
   ]
  },
  {
   "cell_type": "code",
   "execution_count": 127,
   "metadata": {},
   "outputs": [],
   "source": [
    "import sys\n",
    "import pickle\n",
    "sys.path.append(\"../tools/\")\n",
    "\n",
    "from feature_format import featureFormat, targetFeatureSplit\n",
    "from tester import dump_classifier_and_data\n",
    "#Alerta para a descontinuidade do módulo, mas consegui ajustar com as versões que serão destacadas no início do Notebook. "
   ]
  },
  {
   "cell_type": "code",
   "execution_count": 128,
   "metadata": {},
   "outputs": [
    {
     "data": {
      "text/plain": [
       "['poi',\n",
       " 'salary',\n",
       " 'to_messages',\n",
       " 'deferral_payments',\n",
       " 'total_payments',\n",
       " 'exercised_stock_options',\n",
       " 'bonus',\n",
       " 'restricted_stock',\n",
       " 'shared_receipt_with_poi',\n",
       " 'restricted_stock_deferred',\n",
       " 'total_stock_value',\n",
       " 'expenses',\n",
       " 'from_messages',\n",
       " 'other',\n",
       " 'from_this_person_to_poi',\n",
       " 'deferred_income',\n",
       " 'long_term_incentive',\n",
       " 'from_poi_to_this_person',\n",
       " 'total_be',\n",
       " 'total_millions',\n",
       " 'fraction_to_poi',\n",
       " 'fraction_from_poi']"
      ]
     },
     "execution_count": 128,
     "metadata": {},
     "output_type": "execute_result"
    }
   ],
   "source": [
    "features_full_list = enron.columns.tolist()\n",
    "#remover 'name'.\n",
    "features_full_list.pop(0)\n",
    "#remover 'email_address'\n",
    "features_full_list.pop(19)\n",
    "#Remover 'loan_advances' devido os valores ausentes.\n",
    "features_full_list.pop(11)\n",
    "# remover 'director_fees' por causa de valores ausentes.\n",
    "features_full_list.pop(15)\n",
    "#retirar 'poi'. \n",
    "features_full_list.pop(14)\n",
    "#adicionar POI ao inicio da lista.\n",
    "features_list = ['poi']\n",
    "for n in features_full_list:\n",
    "    features_list.append(n)\n",
    "features_list"
   ]
  },
  {
   "cell_type": "code",
   "execution_count": 129,
   "metadata": {},
   "outputs": [
    {
     "data": {
      "text/plain": [
       "{'bonus': 97343619,\n",
       " 'deferral_payments': 32083396,\n",
       " 'deferred_income': -27992891,\n",
       " 'director_fees': 1398517,\n",
       " 'email_address': 'NaN',\n",
       " 'exercised_stock_options': 311764000,\n",
       " 'expenses': 5235198,\n",
       " 'from_messages': 'NaN',\n",
       " 'from_poi_to_this_person': 'NaN',\n",
       " 'from_this_person_to_poi': 'NaN',\n",
       " 'loan_advances': 83925000,\n",
       " 'long_term_incentive': 48521928,\n",
       " 'other': 42667589,\n",
       " 'poi': False,\n",
       " 'restricted_stock': 130322299,\n",
       " 'restricted_stock_deferred': -7576788,\n",
       " 'salary': 26704229,\n",
       " 'shared_receipt_with_poi': 'NaN',\n",
       " 'to_messages': 'NaN',\n",
       " 'total_payments': 309886585,\n",
       " 'total_stock_value': 434509511}"
      ]
     },
     "execution_count": 129,
     "metadata": {},
     "output_type": "execute_result"
    }
   ],
   "source": [
    "#Remover outliers identificado na analise que distorce os dados.\n",
    "enron_dict.pop('TOTAL', 0)"
   ]
  },
  {
   "cell_type": "code",
   "execution_count": 130,
   "metadata": {},
   "outputs": [
    {
     "data": {
      "text/plain": [
       "{'bonus': 'NaN',\n",
       " 'deferral_payments': 'NaN',\n",
       " 'deferred_income': 'NaN',\n",
       " 'director_fees': 'NaN',\n",
       " 'email_address': 'NaN',\n",
       " 'exercised_stock_options': 'NaN',\n",
       " 'expenses': 'NaN',\n",
       " 'from_messages': 'NaN',\n",
       " 'from_poi_to_this_person': 'NaN',\n",
       " 'from_this_person_to_poi': 'NaN',\n",
       " 'loan_advances': 'NaN',\n",
       " 'long_term_incentive': 'NaN',\n",
       " 'other': 'NaN',\n",
       " 'poi': False,\n",
       " 'restricted_stock': 'NaN',\n",
       " 'restricted_stock_deferred': 'NaN',\n",
       " 'salary': 'NaN',\n",
       " 'shared_receipt_with_poi': 'NaN',\n",
       " 'to_messages': 'NaN',\n",
       " 'total_payments': 'NaN',\n",
       " 'total_stock_value': 'NaN'}"
      ]
     },
     "execution_count": 130,
     "metadata": {},
     "output_type": "execute_result"
    }
   ],
   "source": [
    "#Remover 'LOCKHART EUGENE E', por não ser um POI, e com isso distorcer os dados.\n",
    "enron_dict.pop('LOCKHART EUGENE E',0)"
   ]
  },
  {
   "cell_type": "code",
   "execution_count": 131,
   "metadata": {},
   "outputs": [],
   "source": [
    "# Retirar 'loan_advances' devido a quantidade de valores ausentes.\n",
    "for name in enron_dict:\n",
    "    enron_dict[name].pop('loan_advances',0)"
   ]
  },
  {
   "cell_type": "code",
   "execution_count": 132,
   "metadata": {},
   "outputs": [],
   "source": [
    "# Criar novas tabelas\n",
    "\n",
    "#Vamos incluir a proporção de emails de POI sobre o total de mensagens.\n",
    "#Vamos buscar todas as mensagens de poi_messages não nulas por all_messages não nulas.\n",
    "def compFraction( poi_messages, all_messages ):\n",
    "   \n",
    "    fraction = 0.\n",
    "    if poi_messages != 'NaN' and all_messages != 'NaN':\n",
    "        fraction = float(poi_messages)/all_messages\n",
    "\n",
    "\n",
    "    return fraction"
   ]
  },
  {
   "cell_type": "code",
   "execution_count": 133,
   "metadata": {},
   "outputs": [],
   "source": [
    "for name in enron_dict:\n",
    "\n",
    "    data_point = enron_dict[name]\n",
    "#Vamos buscar a pessoa que recebeu a mensagem de POI.\n",
    "    from_poi_to_this_person = data_point[\"from_poi_to_this_person\"]\n",
    "    to_messages = data_point[\"to_messages\"]\n",
    "    fraction_from_poi = compFraction( from_poi_to_this_person, to_messages )\n",
    "#Proporções de POI.\n",
    "    enron_dict[name][\"fraction_from_poi\"] = fraction_from_poi\n",
    "  \n",
    "    from_this_person_to_poi = data_point[\"from_this_person_to_poi\"]\n",
    "    from_messages = data_point[\"from_messages\"]\n",
    "    fraction_to_poi = compFraction( from_this_person_to_poi, from_messages )\n",
    "\n",
    "    enron_dict[name][\"fraction_to_poi\"] = fraction_to_poi"
   ]
  },
  {
   "cell_type": "code",
   "execution_count": 134,
   "metadata": {},
   "outputs": [],
   "source": [
    "#Vamos Adicionar a coluna total_be ao dicionário.\n",
    "for name in enron_dict:\n",
    "    data_point = enron_dict[name]\n",
    "#Durante o Loop vamos subistituir os NAN por 0.0, para ser possível uma melhor manipulação.    \n",
    "    bonus = data_point['bonus']\n",
    "    if bonus == 'NaN':\n",
    "        bonus = 0.0\n",
    "    options = data_point['exercised_stock_options']\n",
    "    if options == 'NaN':\n",
    "        options = 0.0\n",
    "    total = bonus+options\n",
    "#Vamos adicionar ao dicionário o somatório de \"bonus\" e \"exercised_stock_options\" que é = total_be\n",
    "    enron_dict[name]['total_be'] = total"
   ]
  },
  {
   "cell_type": "code",
   "execution_count": 135,
   "metadata": {},
   "outputs": [],
   "source": [
    "#Para facilitar a visualização, vamos incluir a coluna total_millions em milhôes, dividindo-as por 1.000.000.\n",
    "for name in enron_dict:\n",
    "    data_point = enron_dict[name]\n",
    "    \n",
    "    total_payments = data_point['total_payments']\n",
    "    if total_payments == 'NaN':\n",
    "        total_payments = 0.0\n",
    "    total_stock = data_point['total_stock_value']\n",
    "    if total_stock == 'NaN':\n",
    "        total_stock = 0.0\n",
    "    total = (total_payments + total_stock)/1000000\n",
    "\n",
    "    enron_dict[name]['total_millions'] = total"
   ]
  },
  {
   "cell_type": "markdown",
   "metadata": {},
   "source": [
    "### Justificativa para Seleção de Variáveis"
   ]
  },
  {
   "cell_type": "markdown",
   "metadata": {},
   "source": [
    "Após a verificação individual das variáveis(colunas), foram selecionadas algumas listas, que podem fornecer informações sobre o comportamento de um POI, e por consequencia ser interessante para os classificadores, considerando as características que mostraram uma maior diferença global entre as estatísticas POI e não-POI foram escolhidas.\n",
    "\n",
    ">***Variáveis Escolhidas***\n",
    "\n",
    "Nas representaçãoes podemos observar uma média mais elevada, para as remunerações individuais (salários, bônus), onde o mesmo vale para o total geral (total_millions) que apresenta uma tendência, média, para uma maior remuneração dos POIs em relação aos não POIs.\n",
    "\n",
    "Outra média observada foi a que os POIs possuem participação mais positiva em \"exercised_stock_options\".\n",
    "\n",
    "\n",
    "As colunas como \"from_messages\", não mostram variação relevante nos emails, a não ser para outros POIs (fraction_to_poi), o que vamos testar para verificar o desempenho para posteriormente realizar uma seleção final. \n"
   ]
  },
  {
   "cell_type": "code",
   "execution_count": 136,
   "metadata": {},
   "outputs": [
    {
     "name": "stdout",
     "output_type": "stream",
     "text": [
      "['poi', 'salary', 'to_messages', 'deferral_payments', 'total_payments', 'exercised_stock_options', 'bonus', 'restricted_stock', 'shared_receipt_with_poi', 'restricted_stock_deferred', 'total_stock_value', 'expenses', 'from_messages', 'other', 'from_this_person_to_poi', 'deferred_income', 'long_term_incentive', 'from_poi_to_this_person', 'total_be', 'total_millions', 'fraction_to_poi', 'fraction_from_poi']\n"
     ]
    }
   ],
   "source": [
    "#Relação de Variáveis disponíveis para teste.\n",
    "print features_list "
   ]
  },
  {
   "cell_type": "code",
   "execution_count": 137,
   "metadata": {},
   "outputs": [
    {
     "name": "stdout",
     "output_type": "stream",
     "text": [
      "Lista final: ['poi', 'bonus', 'exercised_stock_options', 'fraction_to_poi']\n"
     ]
    }
   ],
   "source": [
    "#Serão montados 4 tipos de listas com as variáveis a serem utilizadas.\n",
    "list_orig = ['poi', 'salary', 'to_messages', 'deferral_payments', 'total_payments', 'exercised_stock_options', 'bonus', 'restricted_stock', 'shared_receipt_with_poi', 'restricted_stock_deferred', 'total_stock_value', 'expenses', 'from_messages', 'other', 'from_this_person_to_poi', 'poi', 'deferred_income', 'long_term_incentive', 'from_poi_to_this_person']\n",
    "list_newf = ['poi', 'salary', 'to_messages', 'deferral_payments', 'total_payments', 'exercised_stock_options', 'bonus', 'restricted_stock', 'shared_receipt_with_poi', 'restricted_stock_deferred', 'total_stock_value', 'expenses', 'from_messages', 'other', 'from_this_person_to_poi', 'deferred_income', 'long_term_incentive', 'from_poi_to_this_person', 'total_be', 'total_millions', 'fraction_to_poi', 'fraction_from_poi']\n",
    "list_1 = ['poi','total_millions','fraction_to_poi','from_messages']\n",
    "list_2 = ['poi','total_be','fraction_to_poi','from_messages']\n",
    "list_3 = ['poi','salary','bonus','fraction_to_poi','from_messages']\n",
    "list_4 = ['poi','bonus','exercised_stock_options','fraction_to_poi']\n",
    "features_final_list = list_4\n",
    "print \"Lista final:\", features_final_list"
   ]
  },
  {
   "cell_type": "markdown",
   "metadata": {},
   "source": [
    "## Seleção de Algoritmo\n",
    "\n",
    "### Métricas de avaliação\n"
   ]
  },
  {
   "cell_type": "code",
   "execution_count": 138,
   "metadata": {},
   "outputs": [],
   "source": [
    "from sklearn.metrics import accuracy_score\n",
    "from sklearn.metrics import precision_score\n",
    "from sklearn.metrics import recall_score\n",
    "#https://scikit-plot.readthedocs.io/en/stable/\n",
    "import scikitplot as skplt\n",
    "\n",
    "from sklearn.cross_validation import StratifiedShuffleSplit"
   ]
  },
  {
   "cell_type": "code",
   "execution_count": 139,
   "metadata": {},
   "outputs": [],
   "source": [
    "#Vamos importar 3 Classificadores para que possamos escolher de acordo com o desempenho.\n",
    "#Apresentado em aula Udacity.\n",
    "from sklearn.naive_bayes import GaussianNB\n",
    "#Um classificador de árvore de decisão. fonte: https://scikit-learn.org/stable/modules/generated/sklearn.tree.DecisionTreeClassifier.html\n",
    "from sklearn.tree import DecisionTreeClassifier\n",
    "#Adaptação ao: https://paulovasconcellos.com.br/como-criar-seu-primeiro-aplicativo-de-machine-learning-7b6af291ba11\n",
    "from sklearn.neighbors import KNeighborsClassifier"
   ]
  },
  {
   "cell_type": "code",
   "execution_count": 140,
   "metadata": {},
   "outputs": [],
   "source": [
    "# Carregando 'my_test.py'\n",
    "def test_list(classifier, feature_list, enron_dict):\n",
    "    \n",
    "    my_dataset = enron_dict\n",
    "    \n",
    "    data = featureFormat(my_dataset, feature_list, sort_keys = True) \n",
    "    labels, features = targetFeatureSplit(data) \n",
    "    \n",
    "    X = np.array(features)\n",
    "    y = np.array(labels)\n",
    "    sss = StratifiedShuffleSplit(labels, n_iter=1000, test_size=0.3, random_state=42)      \n",
    "    for train_index, test_index in sss:\n",
    "        features_train, features_test = X[train_index], X[test_index]\n",
    "        labels_train, labels_test = y[train_index], y[test_index]\n",
    "        \n",
    "    clf = classifier\n",
    "    clf.fit(features_train,labels_train)\n",
    "    pred = clf.predict(features_test)\n",
    "    \n",
    "    if classifier == DecisionTreeClassifier():\n",
    "        return {'Accuracy': accuracy_score(labels_test,pred),'Precision': precision_score(labels_test,pred),\n",
    "                'Recall': recall_score(labels_test,pred), 'Feature Importance': clf.feature_importances_}\n",
    "    \n",
    "    return {'Accuracy': accuracy_score(labels_test,pred),'Precision': precision_score(labels_test,pred),\n",
    "            'Recall': recall_score(labels_test,pred)}"
   ]
  },
  {
   "cell_type": "markdown",
   "metadata": {},
   "source": [
    "### Desempenho de Cada Algoritimo:  Accuracy, Precision, and Recall\n",
    "Cada lista será testada usando os três algoritmos escolhidos: Naive Bayes, Decision Tree e KNearest Neighbours.\n",
    "\n",
    "Ao tentatar identificar os POIs, queremos evitar os falsos positivos.\n",
    "\n",
    "Definições:\n",
    "\n",
    "1. Verdadeiro positivo (TP) = número de casos corretamente identificados como POI.\n",
    "2. Falso positivo (FP) = número de casos identificados incorretamente como POI. \n",
    "3. Verdadeiro negativo (TN) = número de casos corretamente identificados como não POI. \n",
    "4. Falso negativo (FN) = número de casos identificados incorretamente não POI. \n",
    "\n",
    "\n",
    "- Nossa pontuação de precisão nos mostrará nossa proporção de observação corretamente prevista para o total de observações: Accuracy = TP + TN / TP + FP + FN + TN\n",
    "\n",
    "- A sensibilidade nos dirá a capacidade para determinar os POIs corretamente: Precision = TP / TP + FP.\n",
    "\n",
    "- E a Recall, recall é o número de verdadeiros positivos dividido pelo número de verdadeiros positivos mais o número de falsos negativos: Recall = TP / TP + FN\n",
    "\n"
   ]
  },
  {
   "cell_type": "code",
   "execution_count": 141,
   "metadata": {},
   "outputs": [
    {
     "name": "stdout",
     "output_type": "stream",
     "text": [
      "['poi', 'salary', 'to_messages', 'deferral_payments', 'total_payments', 'exercised_stock_options', 'bonus', 'restricted_stock', 'shared_receipt_with_poi', 'restricted_stock_deferred', 'total_stock_value', 'expenses', 'from_messages', 'other', 'from_this_person_to_poi', 'poi', 'deferred_income', 'long_term_incentive', 'from_poi_to_this_person']\n",
      "GaussianNB:  {'Recall': 0.8333333333333334, 'Precision': 0.19230769230769232, 'Accuracy': 0.5}\n",
      "DecisionTree:  {'Recall': 1.0, 'Precision': 1.0, 'Accuracy': 1.0}\n",
      "KNeighbors:  {'Recall': 0.16666666666666666, 'Precision': 0.5, 'Accuracy': 0.8636363636363636}\n"
     ]
    }
   ],
   "source": [
    "#Lista sem a inclusão de novas fatures.\n",
    "print list_orig\n",
    "print 'GaussianNB: ', test_list(GaussianNB(),list_orig,enron_dict)\n",
    "print 'DecisionTree: ', test_list(DecisionTreeClassifier(),list_orig,enron_dict)\n",
    "print 'KNeighbors: ', test_list(KNeighborsClassifier(),list_orig,enron_dict)"
   ]
  },
  {
   "cell_type": "code",
   "execution_count": 142,
   "metadata": {},
   "outputs": [
    {
     "name": "stdout",
     "output_type": "stream",
     "text": [
      "['poi', 'salary', 'to_messages', 'deferral_payments', 'total_payments', 'exercised_stock_options', 'bonus', 'restricted_stock', 'shared_receipt_with_poi', 'restricted_stock_deferred', 'total_stock_value', 'expenses', 'from_messages', 'other', 'from_this_person_to_poi', 'deferred_income', 'long_term_incentive', 'from_poi_to_this_person', 'total_be', 'total_millions', 'fraction_to_poi', 'fraction_from_poi']\n",
      "GaussianNB:  {'Recall': 0.8333333333333334, 'Precision': 0.2631578947368421, 'Accuracy': 0.6590909090909091}\n",
      "DecisionTree:  {'Recall': 0.16666666666666666, 'Precision': 0.1111111111111111, 'Accuracy': 0.7045454545454546}\n",
      "KNeighbors:  {'Recall': 0.3333333333333333, 'Precision': 0.6666666666666666, 'Accuracy': 0.8863636363636364}\n"
     ]
    }
   ],
   "source": [
    "#Lista com a inclusão de novas fatures.\n",
    "print list_newf\n",
    "print 'GaussianNB: ', test_list(GaussianNB(),list_newf,enron_dict)\n",
    "print 'DecisionTree: ', test_list(DecisionTreeClassifier(),list_newf,enron_dict)\n",
    "print 'KNeighbors: ', test_list(KNeighborsClassifier(),list_newf,enron_dict)"
   ]
  },
  {
   "cell_type": "code",
   "execution_count": 143,
   "metadata": {},
   "outputs": [
    {
     "name": "stdout",
     "output_type": "stream",
     "text": [
      "['poi', 'salary', 'to_messages', 'deferral_payments', 'total_payments', 'exercised_stock_options', 'bonus', 'restricted_stock', 'shared_receipt_with_poi', 'restricted_stock_deferred', 'total_stock_value', 'expenses', 'from_messages', 'other', 'from_this_person_to_poi', 'deferred_income', 'long_term_incentive', 'from_poi_to_this_person', 'total_be', 'total_millions', 'fraction_to_poi', 'fraction_from_poi']\n",
      "GaussianNB:  {'Recall': 0.8333333333333334, 'Precision': 0.2631578947368421, 'Accuracy': 0.6590909090909091}\n",
      "DecisionTree:  {'Recall': 0.16666666666666666, 'Precision': 0.125, 'Accuracy': 0.7272727272727273}\n",
      "KNeighbors:  {'Recall': 0.3333333333333333, 'Precision': 0.6666666666666666, 'Accuracy': 0.8863636363636364}\n"
     ]
    }
   ],
   "source": [
    "#lista completa\n",
    "print features_list\n",
    "print 'GaussianNB: ', test_list(GaussianNB(),features_list,enron_dict)\n",
    "print 'DecisionTree: ', test_list(DecisionTreeClassifier(),features_list,enron_dict)\n",
    "print 'KNeighbors: ', test_list(KNeighborsClassifier(),features_list,enron_dict)"
   ]
  },
  {
   "cell_type": "code",
   "execution_count": 144,
   "metadata": {},
   "outputs": [
    {
     "name": "stdout",
     "output_type": "stream",
     "text": [
      "['poi', 'total_millions', 'fraction_to_poi', 'from_messages']\n",
      "GaussianNB:  {'Recall': 0.5, 'Precision': 0.6, 'Accuracy': 0.8780487804878049}\n",
      "DecisionTree:  {'Recall': 0.16666666666666666, 'Precision': 0.2, 'Accuracy': 0.7804878048780488}\n",
      "KNeighbors:  {'Recall': 0.0, 'Precision': 0.0, 'Accuracy': 0.8536585365853658}\n"
     ]
    },
    {
     "name": "stderr",
     "output_type": "stream",
     "text": [
      "C:\\Users\\diego\\Anaconda2\\lib\\site-packages\\sklearn\\metrics\\classification.py:1135: UndefinedMetricWarning: Precision is ill-defined and being set to 0.0 due to no predicted samples.\n",
      "  'precision', 'predicted', average, warn_for)\n"
     ]
    }
   ],
   "source": [
    "#lista 1\n",
    "print list_1\n",
    "print 'GaussianNB: ', test_list(GaussianNB(),list_1,enron_dict)\n",
    "print 'DecisionTree: ', test_list(DecisionTreeClassifier(),list_1,enron_dict)\n",
    "print 'KNeighbors: ', test_list(KNeighborsClassifier(),list_1,enron_dict)\n"
   ]
  },
  {
   "cell_type": "code",
   "execution_count": 145,
   "metadata": {},
   "outputs": [
    {
     "name": "stdout",
     "output_type": "stream",
     "text": [
      "['poi', 'total_be', 'fraction_to_poi', 'from_messages']\n",
      "GaussianNB:  {'Recall': 0.3333333333333333, 'Precision': 0.3333333333333333, 'Accuracy': 0.7948717948717948}\n",
      "DecisionTree:  {'Recall': 0.3333333333333333, 'Precision': 0.3333333333333333, 'Accuracy': 0.7948717948717948}\n",
      "KNeighbors:  {'Recall': 0.3333333333333333, 'Precision': 0.4, 'Accuracy': 0.8205128205128205}\n"
     ]
    }
   ],
   "source": [
    "#lista 2\n",
    "print list_2\n",
    "print 'GaussianNB: ', test_list(GaussianNB(),list_2,enron_dict)\n",
    "print 'DecisionTree: ', test_list(DecisionTreeClassifier(),list_2,enron_dict)\n",
    "print 'KNeighbors: ', test_list(KNeighborsClassifier(),list_2,enron_dict)"
   ]
  },
  {
   "cell_type": "code",
   "execution_count": 146,
   "metadata": {},
   "outputs": [
    {
     "name": "stdout",
     "output_type": "stream",
     "text": [
      "['poi', 'salary', 'bonus', 'fraction_to_poi', 'from_messages']\n",
      "GaussianNB:  {'Recall': 0.4, 'Precision': 0.2857142857142857, 'Accuracy': 0.7647058823529411}\n",
      "DecisionTree:  {'Recall': 0.4, 'Precision': 0.4, 'Accuracy': 0.8235294117647058}\n",
      "KNeighbors:  {'Recall': 0.4, 'Precision': 0.6666666666666666, 'Accuracy': 0.8823529411764706}\n"
     ]
    }
   ],
   "source": [
    "#lista 3\n",
    "print list_3\n",
    "print 'GaussianNB: ', test_list(GaussianNB(),list_3,enron_dict)\n",
    "print 'DecisionTree: ', test_list(DecisionTreeClassifier(),list_3,enron_dict)\n",
    "print 'KNeighbors: ', test_list(KNeighborsClassifier(),list_3,enron_dict)"
   ]
  },
  {
   "cell_type": "code",
   "execution_count": 147,
   "metadata": {},
   "outputs": [
    {
     "name": "stdout",
     "output_type": "stream",
     "text": [
      "['poi', 'bonus', 'exercised_stock_options', 'fraction_to_poi']\n",
      "GaussianNB:  {'Recall': 0.2, 'Precision': 0.14285714285714285, 'Accuracy': 0.7368421052631579}\n",
      "DecisionTree:  {'Recall': 0.4, 'Precision': 0.2, 'Accuracy': 0.7105263157894737}\n",
      "KNeighbors:  {'Recall': 0.6, 'Precision': 0.75, 'Accuracy': 0.9210526315789473}\n"
     ]
    }
   ],
   "source": [
    "#lista 4\n",
    "print list_4\n",
    "print 'GaussianNB: ', test_list(GaussianNB(),list_4,enron_dict)\n",
    "print 'DecisionTree: ', test_list(DecisionTreeClassifier(),list_4,enron_dict)\n",
    "print 'KNeighbors: ', test_list(KNeighborsClassifier(),list_4,enron_dict)"
   ]
  },
  {
   "cell_type": "markdown",
   "metadata": {},
   "source": [
    "**Observando as simulações podemos verificar que a pontuação com o KNeighbors utilizando a list_4 foi de:**\n",
    "\n",
    "\n",
    "- Accuracy: 0.9210526315789473 = 92%\n",
    "- Precision:0.75 = 75%\n",
    "- Recal:0.6 = 60%\n",
    "\n",
    "Para nossa lista final será incluída as seguintes variáveis:\n",
    "\n",
    "'poi','bonus','exercised_stock_options','fraction_to_poi'"
   ]
  },
  {
   "cell_type": "markdown",
   "metadata": {},
   "source": [
    "\n",
    "# Teste de Validação\n",
    "\n",
    "É necessário validar o classificador usando dados de treinamento/teste.\n",
    "\n",
    "Utilizar apenas os mesmos dados pode gerar resultado excessivos.\n",
    "\n",
    "Para isso vamos utilizar o StratifiedShuffleSplit para dividir nossos dados em dados de treinamento e teste.Podemos garantir que nossas classes sejam alocadas pela mesma proporção definida para treinamento/teste e que cada ponto de dados da classe seja selecionado aleatoriamente. \n",
    "\n",
    "Devido ao nosso pequeno conjunto de dados, definir as iterações para 1000 nos dará resultados mais confiáveis no final, pois teremos treinado e testado em quase todos os nossos pontos de dados, com a desvantagem do tempo de execução."
   ]
  },
  {
   "cell_type": "code",
   "execution_count": 148,
   "metadata": {},
   "outputs": [],
   "source": [
    "#Armazene my_dataset para deixar a exploração mais fácil.\n",
    "my_dataset = enron_dict\n",
    "\n",
    "#Extrair as colunas e rótulos para o local de teste do dataset.\n",
    "data = featureFormat(my_dataset, features_final_list, sort_keys = True)\n",
    "labels, features = targetFeatureSplit(data)"
   ]
  },
  {
   "cell_type": "code",
   "execution_count": 149,
   "metadata": {},
   "outputs": [
    {
     "name": "stdout",
     "output_type": "stream",
     "text": [
      "0.9210526315789473\n"
     ]
    }
   ],
   "source": [
    "#Validação usando StratifiedShuffleSplit para distribuir uniformemente as classes entre os  dados de treinamento e de teste.\n",
    "X = np.array(features)\n",
    "y = np.array(labels)\n",
    "sss = StratifiedShuffleSplit(labels, n_iter=1000, test_size=0.3, random_state=42)      \n",
    "for train_index, test_index in sss:\n",
    "    features_train, features_test = X[train_index], X[test_index]\n",
    "    labels_train, labels_test = y[train_index], y[test_index]\n",
    "\n",
    "#Verificque se há accuracy.\n",
    "    \n",
    "clf = KNeighborsClassifier()\n",
    "clf.fit(features_train, labels_train)\n",
    "\n",
    "print clf.score(features_test, labels_test)"
   ]
  },
  {
   "cell_type": "markdown",
   "metadata": {},
   "source": [
    "\n",
    "## Ajuste de Parâmetros\n",
    "\n",
    "**Vamos ajustar os parâmetros do nosso Classificador de Árvore de Decisões e verificar se faria a diferença,  apesar de neste primeiro momento termos escolhido o KNeighbors.  \n",
    "Os parâmetros podem controlar o overfitting / underfitting, portanto, ajustá-los certamente pode alterar as métricas.**"
   ]
  },
  {
   "cell_type": "code",
   "execution_count": 150,
   "metadata": {},
   "outputs": [
    {
     "data": {
      "text/plain": [
       "{'class_weight': None,\n",
       " 'criterion': 'gini',\n",
       " 'max_depth': None,\n",
       " 'max_features': None,\n",
       " 'max_leaf_nodes': None,\n",
       " 'min_impurity_decrease': 0.0,\n",
       " 'min_impurity_split': None,\n",
       " 'min_samples_leaf': 1,\n",
       " 'min_samples_split': 2,\n",
       " 'min_weight_fraction_leaf': 0.0,\n",
       " 'presort': False,\n",
       " 'random_state': None,\n",
       " 'splitter': 'best'}"
      ]
     },
     "execution_count": 150,
     "metadata": {},
     "output_type": "execute_result"
    }
   ],
   "source": [
    "DecisionTreeClassifier().get_params()"
   ]
  },
  {
   "cell_type": "code",
   "execution_count": 151,
   "metadata": {},
   "outputs": [],
   "source": [
    "#Arvore de Decisão\n",
    "from sklearn.tree import DecisionTreeClassifier\n",
    "\n",
    "#defina min_samples_split como 3 e aumente até que não seja mais útil\n",
    "clf = DecisionTreeClassifier(min_samples_split=9)\n",
    "clf.fit(features_train,labels_train)\n",
    "pred = clf.predict(features_test)"
   ]
  },
  {
   "cell_type": "code",
   "execution_count": 152,
   "metadata": {},
   "outputs": [
    {
     "name": "stdout",
     "output_type": "stream",
     "text": [
      "{'Recall': 0.2, 'Precision': 0.25, 'Accuracy': 0.8157894736842105}\n"
     ]
    }
   ],
   "source": [
    "# Resultados anteriores:  [Accuracy: 0.71052631578947367, Precision: 0.20000000000000001, Recall:0.40000000000000002]\n",
    "\n",
    "#print performance metrics\n",
    "print {'Accuracy': accuracy_score(labels_test,pred),'Precision': precision_score(labels_test,pred),\n",
    "       'Recall': recall_score(labels_test,pred)}"
   ]
  },
  {
   "cell_type": "code",
   "execution_count": 153,
   "metadata": {},
   "outputs": [
    {
     "data": {
      "text/plain": [
       "<matplotlib.axes._subplots.AxesSubplot at 0x1a659518>"
      ]
     },
     "execution_count": 153,
     "metadata": {},
     "output_type": "execute_result"
    },
    {
     "data": {
      "image/png": "[encoded data removed]",
      "text/plain": [
       "<matplotlib.figure.Figure at 0x1a357cc0>"
      ]
     },
     "metadata": {},
     "output_type": "display_data"
    }
   ],
   "source": [
    "#Gráfico de Matriz de Confusão.\n",
    "skplt.metrics.plot_confusion_matrix(labels_test, pred, normalize=True)"
   ]
  },
  {
   "cell_type": "markdown",
   "metadata": {},
   "source": [
    "**Agora vamos tentar um ajuste no KNeiders Classifiere verificar se faria alguma diferença**"
   ]
  },
  {
   "cell_type": "code",
   "execution_count": 154,
   "metadata": {},
   "outputs": [
    {
     "data": {
      "text/plain": [
       "{'algorithm': 'auto',\n",
       " 'leaf_size': 30,\n",
       " 'metric': 'minkowski',\n",
       " 'metric_params': None,\n",
       " 'n_jobs': 1,\n",
       " 'n_neighbors': 5,\n",
       " 'p': 2,\n",
       " 'weights': 'uniform'}"
      ]
     },
     "execution_count": 154,
     "metadata": {},
     "output_type": "execute_result"
    }
   ],
   "source": [
    "KNeighborsClassifier().get_params()"
   ]
  },
  {
   "cell_type": "code",
   "execution_count": 155,
   "metadata": {},
   "outputs": [
    {
     "name": "stdout",
     "output_type": "stream",
     "text": [
      "{'Recall': 0.6, 'Precision': 0.75, 'Accuracy': 0.9210526315789473}\n"
     ]
    }
   ],
   "source": [
    "#Resultados anteriores: [Accuracy:0.92105263157894735, Precision:0.75, Recall:0.59999999999999998]\n",
    "\n",
    "# Aumente o conjunto n_neighbors para 2 e aumente até que as métricas mostrem sobreajuste (no caso 6).\n",
    "clf = KNeighborsClassifier(n_neighbors=5)\n",
    "clf.fit(features_train,labels_train)\n",
    "pred = clf.predict(features_test)\n",
    "\n",
    "print {'Accuracy': accuracy_score(labels_test,pred),'Precision': precision_score(labels_test,pred),\n",
    "       'Recall': recall_score(labels_test,pred)}"
   ]
  },
  {
   "cell_type": "code",
   "execution_count": 156,
   "metadata": {},
   "outputs": [],
   "source": [
    "# Há possibilidade de melhorar o resultado anterior? [Accuracy:0.92105263157894735, Precision:0.75, Recall:0.59999999999999998]\n",
    "\n",
    "#conjunto n_neighbors para 2,3 e 4\n",
    "\n",
    "def test_param(n):\n",
    "    clf = KNeighborsClassifier(n_neighbors=n)\n",
    "    clf.fit(features_train,labels_train)\n",
    "    pred = clf.predict(features_test)\n",
    "\n",
    "    return [accuracy_score(labels_test,pred), precision_score(labels_test,pred), recall_score(labels_test,pred)]"
   ]
  },
  {
   "cell_type": "code",
   "execution_count": 157,
   "metadata": {},
   "outputs": [
    {
     "name": "stdout",
     "output_type": "stream",
     "text": [
      "2:  [0.9210526315789473, 0.75, 0.6]\n",
      "3:  [0.8947368421052632, 0.6, 0.6]\n",
      "4:  [0.9210526315789473, 0.75, 0.6]\n",
      "6:  [0.9473684210526315, 1.0, 0.6]\n"
     ]
    }
   ],
   "source": [
    "print \"2: \", test_param(2)\n",
    "print \"3: \", test_param(3)\n",
    "print \"4: \", test_param(4)\n",
    "print \"6: \", test_param(6)"
   ]
  },
  {
   "cell_type": "markdown",
   "metadata": {},
   "source": [
    "### Vamos buscar os Melhores parâmetros para KNeighbors com GridSearchCV"
   ]
  },
  {
   "cell_type": "code",
   "execution_count": 158,
   "metadata": {},
   "outputs": [
    {
     "data": {
      "text/plain": [
       "GridSearchCV(cv=5, error_score='raise',\n",
       "       estimator=KNeighborsClassifier(algorithm='auto', leaf_size=30, metric='minkowski',\n",
       "           metric_params=None, n_jobs=1, n_neighbors=5, p=2,\n",
       "           weights='uniform'),\n",
       "       fit_params=None, iid=True, n_jobs=1,\n",
       "       param_grid={'n_neighbors': array([ 1,  2,  3,  4,  5,  6,  7,  8,  9, 10]), 'leaf_size': array([ 1,  2,  3,  4,  5,  6,  7,  8,  9, 10, 11, 12, 13, 14, 15, 16, 17,\n",
       "       18, 19, 20, 21, 22, 23, 24, 25, 26, 27, 28, 29, 30]), 'algorithm': ('auto', 'ball_tree', 'kd_tree', 'brute')},\n",
       "       pre_dispatch='2*n_jobs', refit=True, return_train_score='warn',\n",
       "       scoring=None, verbose=0)"
      ]
     },
     "execution_count": 158,
     "metadata": {},
     "output_type": "execute_result"
    }
   ],
   "source": [
    "from sklearn.model_selection import GridSearchCV\n",
    "\n",
    "k = np.arange(10)+1\n",
    "leaf = np.arange(30)+1\n",
    "params = {'algorithm': ('auto', 'ball_tree', 'kd_tree', 'brute'),'leaf_size': leaf,'n_neighbors': k}\n",
    "\n",
    "clf_params = GridSearchCV(KNeighborsClassifier(), params, cv=5)\n",
    "clf_params.fit(features_train,labels_train)"
   ]
  },
  {
   "cell_type": "code",
   "execution_count": 159,
   "metadata": {},
   "outputs": [
    {
     "data": {
      "text/plain": [
       "KNeighborsClassifier(algorithm='auto', leaf_size=1, metric='minkowski',\n",
       "           metric_params=None, n_jobs=1, n_neighbors=5, p=2,\n",
       "           weights='uniform')"
      ]
     },
     "execution_count": 159,
     "metadata": {},
     "output_type": "execute_result"
    }
   ],
   "source": [
    "clf_params.best_estimator_"
   ]
  },
  {
   "cell_type": "markdown",
   "metadata": {},
   "source": [
    "Qual o resultado que apresenta a sugestão de GridSearchCV?"
   ]
  },
  {
   "cell_type": "code",
   "execution_count": 161,
   "metadata": {},
   "outputs": [
    {
     "name": "stdout",
     "output_type": "stream",
     "text": [
      "{'Recall': 0.6, 'Precision': 0.75, 'Accuracy': 0.9210526315789473}\n"
     ]
    }
   ],
   "source": [
    "clf = KNeighborsClassifier(algorithm='auto', leaf_size=1, metric='minkowski',\n",
    "                           metric_params=None, n_jobs=1, n_neighbors=5, p=2,\n",
    "                           weights='uniform')\n",
    "clf.fit(features_train,labels_train)\n",
    "pred = clf.predict(features_test)\n",
    "\n",
    "print {'Accuracy': accuracy_score(labels_test,pred),'Precision': precision_score(labels_test,pred),\n",
    "       'Recall': recall_score(labels_test,pred)}"
   ]
  },
  {
   "cell_type": "markdown",
   "metadata": {},
   "source": [
    "\n",
    "**Partindo destes resultados é o KNeighborsClassifier que vamos utilizar.**"
   ]
  },
  {
   "cell_type": "markdown",
   "metadata": {},
   "source": [
    "***Obs: Apresenta o mesmo resultado da configuração utilizada, e foi decidido mante-la devido a quantidade de recursos utilizados.***"
   ]
  },
  {
   "cell_type": "markdown",
   "metadata": {},
   "source": [
    "### SELEÇÃO DE VARIÁVEIS E ALGORITMO FINAL\n",
    "\n",
    "As variáveis finais, com base na análise e teste de recurso, são:\n",
    "\n",
    "1. 'bonus'\n",
    "2. 'exercised_stock_options\n",
    "3. 'fraction_to_poi'\n",
    "\n",
    "\n",
    "Mesmo sem ajuste, com as configurações padrão, o classificador KNeighbors, apresentou um melhor resultado se comparado a Arvore de decisão.\n",
    "\n",
    "As variáveis escolhidas, apresentaram um bom desempenho com esse classificador específico. \n",
    "\n",
    "Foram reduzidas para três com o objetivo de minimizar as distorções que podem acontecer com listas mais longas de variáveis. "
   ]
  },
  {
   "cell_type": "code",
   "execution_count": 162,
   "metadata": {},
   "outputs": [
    {
     "name": "stdout",
     "output_type": "stream",
     "text": [
      "0.9210526315789473\n",
      "0.75\n",
      "0.6\n"
     ]
    }
   ],
   "source": [
    "clf = KNeighborsClassifier()\n",
    "clf.fit(features_train,labels_train)\n",
    "pred = clf.predict(features_test)\n",
    "\n",
    "print accuracy_score(labels_test,pred)\n",
    "print precision_score(labels_test,pred)\n",
    "print recall_score(labels_test,pred)"
   ]
  },
  {
   "cell_type": "code",
   "execution_count": null,
   "metadata": {},
   "outputs": [],
   "source": []
  },
  {
   "cell_type": "code",
   "execution_count": 163,
   "metadata": {},
   "outputs": [
    {
     "data": {
      "text/plain": [
       "<matplotlib.axes._subplots.AxesSubplot at 0x1a58fe10>"
      ]
     },
     "execution_count": 163,
     "metadata": {},
     "output_type": "execute_result"
    },
    {
     "data": {
      "image/png": "[encoded data removed]",
      "text/plain": [
       "<matplotlib.figure.Figure at 0x1931ba58>"
      ]
     },
     "metadata": {},
     "output_type": "display_data"
    }
   ],
   "source": [
    "#Gráfico de matriz de confusão referente ao resultados do Classificador escolhido.\n",
    "skplt.metrics.plot_confusion_matrix(labels_test, pred, normalize=True)"
   ]
  },
  {
   "cell_type": "code",
   "execution_count": 164,
   "metadata": {},
   "outputs": [],
   "source": [
    "#Encerrar\n",
    "features_list = features_final_list\n",
    "dump_classifier_and_data(clf, my_dataset, features_list)"
   ]
  },
  {
   "cell_type": "markdown",
   "metadata": {},
   "source": [
    "## Conclusão"
   ]
  },
  {
   "cell_type": "markdown",
   "metadata": {},
   "source": [
    "Apesar de a quantidade de dados que realizamos o trabalho de fato ser pequena, e por isso usamos um método de validação, apresentando um resultado de :\n",
    "\n",
    "- accuracy de 85-95%\n",
    "- precison de 65-75%\n",
    "- recall de 35-60%\n",
    "\n",
    "podemos inferir que o método provou ser útil para a criação de um algoritimo confiável.\n",
    "\n",
    "Os algoritimos Naive Bayes e Decision Tree Classifiers não tiveram desempenho tão bom, quando comparado ao KNeighbors Classifier.\n",
    "\n",
    "Apesar de termos identificado um sobreajuste(overfitting) no KNeighbors Classifier, se mantermos sua configuração no padrão 5, manteremos resultados confiáveis.\n",
    "\n",
    "Observando a matriz de confusão , conseguimos identificar 97% dos não POIs, para reduzir a margem de acusações ou desconfianças indevidas, e 60% dos POIs.\n",
    "\n",
    "Focamos na idéia de evitar acusações indevidas, uma vez que com a evolução constante do aprendizado de máquina, possamos evitar a cusação de pessoas inocentes."
   ]
  },
  {
   "cell_type": "code",
   "execution_count": null,
   "metadata": {},
   "outputs": [],
   "source": []
  },
  {
   "cell_type": "code",
   "execution_count": null,
   "metadata": {},
   "outputs": [],
   "source": []
  }
 ],
 "metadata": {
  "kernelspec": {
   "display_name": "Python 3",
   "language": "python",
   "name": "python3"
  },
  "language_info": {
   "codemirror_mode": {
    "name": "ipython",
    "version": 3
   },
   "file_extension": ".py",
   "mimetype": "text/x-python",
   "name": "python",
   "nbconvert_exporter": "python",
   "pygments_lexer": "ipython3",
   "version": "3.8.5"
  }
 },
 "nbformat": 4,
 "nbformat_minor": 2
}
